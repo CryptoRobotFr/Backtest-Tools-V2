{
 "cells": [
  {
   "cell_type": "code",
   "execution_count": 1,
   "metadata": {},
   "outputs": [],
   "source": [
    "import sys\n",
    "sys.path.append('../..')\n",
    "from utilities.data_manager import ExchangeDataManager\n",
    "import pandas as pd\n",
    "import ccxt\n",
    "import ta\n",
    "import seaborn as sns\n",
    "import plotly.express as px\n",
    "import pygwalker as pyg"
   ]
  },
  {
   "cell_type": "code",
   "execution_count": 2,
   "metadata": {},
   "outputs": [
    {
     "data": {
      "text/plain": [
       "309"
      ]
     },
     "execution_count": 2,
     "metadata": {},
     "output_type": "execute_result"
    }
   ],
   "source": [
    "ex = ccxt.binanceusdm()\n",
    "markets = ex.load_markets()\n",
    "pair_list = [m for m in markets if markets[m][\"quote\"] == 'USDT' and markets[m][\"active\"] is True]\n",
    "len(pair_list)"
   ]
  },
  {
   "cell_type": "code",
   "execution_count": null,
   "metadata": {},
   "outputs": [],
   "source": [
    "exchange = ExchangeDataManager(\n",
    "    exchange_name=\"binanceusdm\", path_download=\"../database/exchanges\"\n",
    ")\n",
    "\n",
    "# To uncomment if you need to download data (it will take a while)\n",
    "# await exchange.download_data(\n",
    "#     coins=pair_list,\n",
    "#     intervals=[\"1d\"],\n",
    "# )"
   ]
  },
  {
   "cell_type": "code",
   "execution_count": 4,
   "metadata": {},
   "outputs": [],
   "source": [
    "def top_bot_strategy(period, top_bot_n, column_name, long_top=True, sides=[\"long\", \"short\"]):\n",
    "    INITIAL_WALLET = 1000\n",
    "    FEES = 0.0006\n",
    "\n",
    "    close_dict = {}\n",
    "    volume_dict = {}\n",
    "    change_dict = {}\n",
    "    volume_evol_dict = {}\n",
    "    volatility_dict = {}\n",
    "    sharpe_dict = {}\n",
    "    rsi_dict = {}\n",
    "    rsi_evol_dict = {}\n",
    "    ma50_dict = {}\n",
    "    ma50_evol_dict = {}\n",
    "    ma_distance_dict = {}\n",
    "\n",
    "    for pair in pair_list:\n",
    "        try:\n",
    "            dft = exchange.load_data(pair, \"1d\")\n",
    "            close_dict[f\"{pair}_close\"] = dft[\"close\"]\n",
    "            volume_dict[f\"{pair}_volume\"] = dft[\"volume\"]\n",
    "            change_dict[f\"{pair}_change\"] = dft[\"close\"].pct_change(period)\n",
    "            volume_evol_dict[f\"{pair}_volume_evol\"] = dft[\"volume\"].pct_change(period)\n",
    "            volatility_dict[f\"{pair}_volatility\"] = dft[\"close\"].rolling(period).std() / dft[\"close\"].rolling(period).mean()\n",
    "            rsi_dict[f\"{pair}_rsi\"] = ta.momentum.RSIIndicator(dft[\"close\"], period).rsi()\n",
    "            rsi_evol_dict[f\"{pair}_rsi_evol\"] = ta.momentum.RSIIndicator(dft[\"close\"], period).rsi().pct_change(period, fill_method=None)\n",
    "            ma50_dict[f\"{pair}_ma50\"] = dft[\"close\"].rolling(50).mean()\n",
    "            ma50_evol_dict[f\"{pair}_ma50_evol\"] = dft[\"close\"].rolling(50).mean().pct_change(period, fill_method=None)\n",
    "            ma_distance_dict[f\"{pair}_ma_distance\"] = 100 * (dft[\"close\"] - dft[\"close\"].rolling(50).mean()) / dft[\"close\"].rolling(50).mean()\n",
    "            sharpe_dict[f\"{pair}_sharpe\"] = (\n",
    "                period ** 0.5 \n",
    "                * dft[\"close\"].pct_change(period).rolling(period).mean() \n",
    "                / dft[\"close\"].pct_change(period).rolling(period).std()\n",
    "            )\n",
    "        except Exception as e:\n",
    "            # print(f\"Error loading {pair}: {e}\")\n",
    "            pass\n",
    "\n",
    "    # Convertir les dictionnaires en DataFrames\n",
    "    close_df = pd.DataFrame(close_dict)\n",
    "    volume_df = pd.DataFrame(volume_dict)\n",
    "    change_df = pd.DataFrame(change_dict)\n",
    "    volume_evol_df = pd.DataFrame(volume_evol_dict)\n",
    "    volatility_df = pd.DataFrame(volatility_dict)\n",
    "    rsi_df = pd.DataFrame(rsi_dict)\n",
    "    rsi_evol_df = pd.DataFrame(rsi_evol_dict)\n",
    "    ma50_evol_df = pd.DataFrame(ma50_evol_dict)\n",
    "    ma_distance_df = pd.DataFrame(ma_distance_dict)\n",
    "    sharpe_df = pd.DataFrame(sharpe_dict)\n",
    "\n",
    "    # Concaténer tous les DataFrames en un seul\n",
    "    df = pd.concat(\n",
    "        [close_df, volume_df, change_df, volume_evol_df, volatility_df, rsi_df, sharpe_df, rsi_evol_df, ma50_evol_df, ma_distance_df], \n",
    "        axis=1\n",
    "    )\n",
    "\n",
    "    volume_columns = [c for c in df.columns if c.endswith(\"USDT_volume\")]\n",
    "    volume_evol_columns = [c for c in df.columns if c.endswith(\"USDT_volume_evol\")]\n",
    "    change_columns = [c for c in df.columns if c.endswith(\"USDT_change\")]\n",
    "    volatility_columns = [c for c in df.columns if c.endswith(\"USDT_volatility\")]\n",
    "    sharpe_columns = [c for c in df.columns if c.endswith(\"USDT_sharpe\")]\n",
    "    rsi_columns = [c for c in df.columns if c.endswith(\"USDT_rsi\")]\n",
    "    rsi_evol_columns = [c for c in df.columns if c.endswith(\"USDT_rsi_evol\")]\n",
    "    ma50_evol_columns = [c for c in df.columns if c.endswith(\"USDT_ma50_evol\")]\n",
    "    ma_distance_columns = [c for c in df.columns if c.endswith(\"USDT_ma_distance\")]\n",
    "\n",
    "    count = 0\n",
    "    positions = {}\n",
    "    trades = []\n",
    "    balance = INITIAL_WALLET\n",
    "    for index, row in df.iterrows():\n",
    "        count += 1\n",
    "        if count % period != 0:\n",
    "            continue\n",
    "        non_nan_close = row[change_columns].notna().sum()\n",
    "        if non_nan_close < 50:\n",
    "            continue\n",
    "        \n",
    "        if len(positions.keys()) > 0:\n",
    "            for pair in positions.copy():\n",
    "                position = positions[pair]\n",
    "                close_price = row[f\"{pair}_close\"]\n",
    "                side = position[\"side\"]\n",
    "                if side == \"long\":\n",
    "                    trade_pct = (close_price - position[\"open_price\"]) / position[\"open_price\"]\n",
    "                else:\n",
    "                    trade_pct = (position[\"open_price\"] - close_price) / position[\"open_price\"]\n",
    "                \n",
    "                trade_pnl_without_fees = position[\"open_size\"] * trade_pct\n",
    "                close_size = position[\"open_size\"] + trade_pnl_without_fees\n",
    "                close_fees = close_size * FEES\n",
    "                trade_pnl = trade_pnl_without_fees - close_fees - position[\"open_fees\"]          \n",
    "                balance += trade_pnl_without_fees - close_fees \n",
    "\n",
    "                trades.append(\n",
    "                    {\n",
    "                        \"pair\": pair,\n",
    "                        \"side\": side,\n",
    "                        \"open_price\": position[\"open_price\"],\n",
    "                        \"close_price\": close_price,\n",
    "                        \"open_size\": position[\"open_size\"],\n",
    "                        \"close_size\": close_size,\n",
    "                        \"open_fees\": position[\"open_fees\"],\n",
    "                        \"close_fees\": close_fees,\n",
    "                        \"open_time\": position[\"open_time\"],\n",
    "                        \"close_time\": index,\n",
    "                        \"trade_pct\": trade_pct,\n",
    "                        \"trade_pnl\": trade_pnl,\n",
    "                        \"open_stat\": position[\"open_stat\"],\n",
    "                    }\n",
    "                )\n",
    "                del positions[pair]\n",
    "\n",
    "        current_changes = row[locals()[column_name]]\n",
    "\n",
    "        if long_top:\n",
    "            best_changes = current_changes.nlargest(top_bot_n)\n",
    "            worst_changes = current_changes.nsmallest(top_bot_n)\n",
    "        else:\n",
    "            best_changes = current_changes.nsmallest(top_bot_n)\n",
    "            worst_changes = current_changes.nlargest(top_bot_n)\n",
    "\n",
    "        change_types = []\n",
    "        if \"long\" in sides:\n",
    "            change_types.append((best_changes, \"long\"))\n",
    "        if \"short\" in sides:\n",
    "            change_types.append((worst_changes, \"short\"))\n",
    "\n",
    "        for changes, pos_type in change_types:\n",
    "            for pair_column in changes.index:\n",
    "                pair = pair_column.split(\"_\")[0]\n",
    "                close_price = row[f\"{pair}_close\"]\n",
    "                usd_size = balance / (len(best_changes) + len(worst_changes))\n",
    "                fees = usd_size * FEES\n",
    "                balance -= fees\n",
    "                positions[pair] = {\n",
    "                    \"side\": pos_type,\n",
    "                    \"open_size\": usd_size,\n",
    "                    \"open_price\": close_price,\n",
    "                    \"open_fees\": fees,\n",
    "                    \"open_time\": index,\n",
    "                    \"open_stat\": changes.loc[pair_column],\n",
    "                }\n",
    "        \n",
    "    df_trades = pd.DataFrame(trades)\n",
    "    print(f\"Final balance: {balance}\")\n",
    "    return df_trades"
   ]
  },
  {
   "cell_type": "code",
   "execution_count": 46,
   "metadata": {},
   "outputs": [
    {
     "name": "stdout",
     "output_type": "stream",
     "text": [
      "Final balance: 6101.345929304818\n"
     ]
    },
    {
     "data": {
      "text/html": [
       "<div>\n",
       "<style scoped>\n",
       "    .dataframe tbody tr th:only-of-type {\n",
       "        vertical-align: middle;\n",
       "    }\n",
       "\n",
       "    .dataframe tbody tr th {\n",
       "        vertical-align: top;\n",
       "    }\n",
       "\n",
       "    .dataframe thead th {\n",
       "        text-align: right;\n",
       "    }\n",
       "</style>\n",
       "<table border=\"1\" class=\"dataframe\">\n",
       "  <thead>\n",
       "    <tr style=\"text-align: right;\">\n",
       "      <th></th>\n",
       "      <th>pair</th>\n",
       "      <th>side</th>\n",
       "      <th>open_price</th>\n",
       "      <th>close_price</th>\n",
       "      <th>open_size</th>\n",
       "      <th>close_size</th>\n",
       "      <th>open_fees</th>\n",
       "      <th>close_fees</th>\n",
       "      <th>open_time</th>\n",
       "      <th>close_time</th>\n",
       "      <th>trade_pct</th>\n",
       "      <th>trade_pnl</th>\n",
       "      <th>open_stat</th>\n",
       "    </tr>\n",
       "  </thead>\n",
       "  <tbody>\n",
       "    <tr>\n",
       "      <th>0</th>\n",
       "      <td>DOGE/USDT:USDT</td>\n",
       "      <td>long</td>\n",
       "      <td>0.002568</td>\n",
       "      <td>0.003568</td>\n",
       "      <td>100.000000</td>\n",
       "      <td>138.940810</td>\n",
       "      <td>0.060000</td>\n",
       "      <td>0.083364</td>\n",
       "      <td>2020-10-31</td>\n",
       "      <td>2020-11-30</td>\n",
       "      <td>0.389408</td>\n",
       "      <td>38.797445</td>\n",
       "      <td>0.012640</td>\n",
       "    </tr>\n",
       "    <tr>\n",
       "      <th>1</th>\n",
       "      <td>TRX/USDT:USDT</td>\n",
       "      <td>long</td>\n",
       "      <td>0.025790</td>\n",
       "      <td>0.032410</td>\n",
       "      <td>99.994000</td>\n",
       "      <td>125.661324</td>\n",
       "      <td>0.059996</td>\n",
       "      <td>0.075397</td>\n",
       "      <td>2020-10-31</td>\n",
       "      <td>2020-11-30</td>\n",
       "      <td>0.256689</td>\n",
       "      <td>25.531931</td>\n",
       "      <td>0.020690</td>\n",
       "    </tr>\n",
       "    <tr>\n",
       "      <th>2</th>\n",
       "      <td>EOS/USDT:USDT</td>\n",
       "      <td>long</td>\n",
       "      <td>2.528000</td>\n",
       "      <td>3.263000</td>\n",
       "      <td>99.988000</td>\n",
       "      <td>129.058879</td>\n",
       "      <td>0.059993</td>\n",
       "      <td>0.077435</td>\n",
       "      <td>2020-10-31</td>\n",
       "      <td>2020-11-30</td>\n",
       "      <td>0.290744</td>\n",
       "      <td>28.933450</td>\n",
       "      <td>0.025852</td>\n",
       "    </tr>\n",
       "    <tr>\n",
       "      <th>3</th>\n",
       "      <td>XRP/USDT:USDT</td>\n",
       "      <td>long</td>\n",
       "      <td>0.239600</td>\n",
       "      <td>0.664800</td>\n",
       "      <td>99.982001</td>\n",
       "      <td>277.412497</td>\n",
       "      <td>0.059989</td>\n",
       "      <td>0.166447</td>\n",
       "      <td>2020-10-31</td>\n",
       "      <td>2020-11-30</td>\n",
       "      <td>1.774624</td>\n",
       "      <td>177.204059</td>\n",
       "      <td>0.027579</td>\n",
       "    </tr>\n",
       "    <tr>\n",
       "      <th>4</th>\n",
       "      <td>ETC/USDT:USDT</td>\n",
       "      <td>long</td>\n",
       "      <td>5.274000</td>\n",
       "      <td>6.749000</td>\n",
       "      <td>99.976002</td>\n",
       "      <td>127.936678</td>\n",
       "      <td>0.059986</td>\n",
       "      <td>0.076762</td>\n",
       "      <td>2020-10-31</td>\n",
       "      <td>2020-11-30</td>\n",
       "      <td>0.279674</td>\n",
       "      <td>27.823928</td>\n",
       "      <td>0.027643</td>\n",
       "    </tr>\n",
       "    <tr>\n",
       "      <th>5</th>\n",
       "      <td>FIL/USDT:USDT</td>\n",
       "      <td>long</td>\n",
       "      <td>30.440000</td>\n",
       "      <td>21.445000</td>\n",
       "      <td>129.829081</td>\n",
       "      <td>91.464673</td>\n",
       "      <td>0.077897</td>\n",
       "      <td>0.054879</td>\n",
       "      <td>2020-11-30</td>\n",
       "      <td>2020-12-30</td>\n",
       "      <td>-0.295499</td>\n",
       "      <td>-38.497184</td>\n",
       "      <td>0.033393</td>\n",
       "    </tr>\n",
       "    <tr>\n",
       "      <th>6</th>\n",
       "      <td>MKR/USDT:USDT</td>\n",
       "      <td>long</td>\n",
       "      <td>569.330000</td>\n",
       "      <td>576.510000</td>\n",
       "      <td>129.821292</td>\n",
       "      <td>131.458509</td>\n",
       "      <td>0.077893</td>\n",
       "      <td>0.078875</td>\n",
       "      <td>2020-11-30</td>\n",
       "      <td>2020-12-30</td>\n",
       "      <td>0.012611</td>\n",
       "      <td>1.480449</td>\n",
       "      <td>0.044604</td>\n",
       "    </tr>\n",
       "    <tr>\n",
       "      <th>7</th>\n",
       "      <td>XMR/USDT:USDT</td>\n",
       "      <td>long</td>\n",
       "      <td>130.560000</td>\n",
       "      <td>159.630000</td>\n",
       "      <td>129.813502</td>\n",
       "      <td>158.717290</td>\n",
       "      <td>0.077888</td>\n",
       "      <td>0.095230</td>\n",
       "      <td>2020-11-30</td>\n",
       "      <td>2020-12-30</td>\n",
       "      <td>0.222656</td>\n",
       "      <td>28.730669</td>\n",
       "      <td>0.049531</td>\n",
       "    </tr>\n",
       "    <tr>\n",
       "      <th>8</th>\n",
       "      <td>THETA/USDT:USDT</td>\n",
       "      <td>long</td>\n",
       "      <td>0.642200</td>\n",
       "      <td>1.588800</td>\n",
       "      <td>129.805714</td>\n",
       "      <td>321.138769</td>\n",
       "      <td>0.077883</td>\n",
       "      <td>0.192683</td>\n",
       "      <td>2020-11-30</td>\n",
       "      <td>2020-12-30</td>\n",
       "      <td>1.473996</td>\n",
       "      <td>191.062489</td>\n",
       "      <td>0.049891</td>\n",
       "    </tr>\n",
       "    <tr>\n",
       "      <th>9</th>\n",
       "      <td>BNB/USDT:USDT</td>\n",
       "      <td>long</td>\n",
       "      <td>31.535000</td>\n",
       "      <td>38.224000</td>\n",
       "      <td>129.797925</td>\n",
       "      <td>157.329821</td>\n",
       "      <td>0.077879</td>\n",
       "      <td>0.094398</td>\n",
       "      <td>2020-11-30</td>\n",
       "      <td>2020-12-30</td>\n",
       "      <td>0.212114</td>\n",
       "      <td>27.359619</td>\n",
       "      <td>0.053477</td>\n",
       "    </tr>\n",
       "    <tr>\n",
       "      <th>10</th>\n",
       "      <td>MKR/USDT:USDT</td>\n",
       "      <td>long</td>\n",
       "      <td>576.510000</td>\n",
       "      <td>1407.480000</td>\n",
       "      <td>150.842686</td>\n",
       "      <td>368.264320</td>\n",
       "      <td>0.090506</td>\n",
       "      <td>0.220959</td>\n",
       "      <td>2020-12-30</td>\n",
       "      <td>2021-01-29</td>\n",
       "      <td>1.441380</td>\n",
       "      <td>217.110170</td>\n",
       "      <td>0.045044</td>\n",
       "    </tr>\n",
       "    <tr>\n",
       "      <th>11</th>\n",
       "      <td>ETC/USDT:USDT</td>\n",
       "      <td>long</td>\n",
       "      <td>5.682000</td>\n",
       "      <td>7.629000</td>\n",
       "      <td>150.833635</td>\n",
       "      <td>202.518444</td>\n",
       "      <td>0.090500</td>\n",
       "      <td>0.121511</td>\n",
       "      <td>2020-12-30</td>\n",
       "      <td>2021-01-29</td>\n",
       "      <td>0.342661</td>\n",
       "      <td>51.472798</td>\n",
       "      <td>0.052960</td>\n",
       "    </tr>\n",
       "    <tr>\n",
       "      <th>12</th>\n",
       "      <td>DASH/USDT:USDT</td>\n",
       "      <td>long</td>\n",
       "      <td>101.930000</td>\n",
       "      <td>104.720000</td>\n",
       "      <td>150.824585</td>\n",
       "      <td>154.952914</td>\n",
       "      <td>0.090495</td>\n",
       "      <td>0.092972</td>\n",
       "      <td>2020-12-30</td>\n",
       "      <td>2021-01-29</td>\n",
       "      <td>0.027372</td>\n",
       "      <td>3.944863</td>\n",
       "      <td>0.053350</td>\n",
       "    </tr>\n",
       "    <tr>\n",
       "      <th>13</th>\n",
       "      <td>IOST/USDT:USDT</td>\n",
       "      <td>long</td>\n",
       "      <td>0.005936</td>\n",
       "      <td>0.016994</td>\n",
       "      <td>150.815535</td>\n",
       "      <td>431.765366</td>\n",
       "      <td>0.090489</td>\n",
       "      <td>0.259059</td>\n",
       "      <td>2020-12-30</td>\n",
       "      <td>2021-01-29</td>\n",
       "      <td>1.862871</td>\n",
       "      <td>280.600282</td>\n",
       "      <td>0.054337</td>\n",
       "    </tr>\n",
       "    <tr>\n",
       "      <th>14</th>\n",
       "      <td>TRX/USDT:USDT</td>\n",
       "      <td>long</td>\n",
       "      <td>0.026930</td>\n",
       "      <td>0.033380</td>\n",
       "      <td>150.806487</td>\n",
       "      <td>186.926124</td>\n",
       "      <td>0.090484</td>\n",
       "      <td>0.112156</td>\n",
       "      <td>2020-12-30</td>\n",
       "      <td>2021-01-29</td>\n",
       "      <td>0.239510</td>\n",
       "      <td>35.916998</td>\n",
       "      <td>0.054860</td>\n",
       "    </tr>\n",
       "    <tr>\n",
       "      <th>15</th>\n",
       "      <td>FIL/USDT:USDT</td>\n",
       "      <td>long</td>\n",
       "      <td>22.341000</td>\n",
       "      <td>35.942000</td>\n",
       "      <td>209.747197</td>\n",
       "      <td>337.439405</td>\n",
       "      <td>0.125848</td>\n",
       "      <td>0.202464</td>\n",
       "      <td>2021-01-29</td>\n",
       "      <td>2021-02-28</td>\n",
       "      <td>0.608791</td>\n",
       "      <td>127.363896</td>\n",
       "      <td>0.038300</td>\n",
       "    </tr>\n",
       "    <tr>\n",
       "      <th>16</th>\n",
       "      <td>BNB/USDT:USDT</td>\n",
       "      <td>long</td>\n",
       "      <td>42.863000</td>\n",
       "      <td>210.110000</td>\n",
       "      <td>209.734612</td>\n",
       "      <td>1028.097410</td>\n",
       "      <td>0.125841</td>\n",
       "      <td>0.616858</td>\n",
       "      <td>2021-01-29</td>\n",
       "      <td>2021-02-28</td>\n",
       "      <td>3.901897</td>\n",
       "      <td>817.620099</td>\n",
       "      <td>0.051014</td>\n",
       "    </tr>\n",
       "    <tr>\n",
       "      <th>17</th>\n",
       "      <td>TRX/USDT:USDT</td>\n",
       "      <td>long</td>\n",
       "      <td>0.033380</td>\n",
       "      <td>0.045560</td>\n",
       "      <td>209.722028</td>\n",
       "      <td>286.247321</td>\n",
       "      <td>0.125833</td>\n",
       "      <td>0.171748</td>\n",
       "      <td>2021-01-29</td>\n",
       "      <td>2021-02-28</td>\n",
       "      <td>0.364889</td>\n",
       "      <td>76.227712</td>\n",
       "      <td>0.057860</td>\n",
       "    </tr>\n",
       "    <tr>\n",
       "      <th>18</th>\n",
       "      <td>THETA/USDT:USDT</td>\n",
       "      <td>long</td>\n",
       "      <td>2.051300</td>\n",
       "      <td>3.131600</td>\n",
       "      <td>209.709444</td>\n",
       "      <td>320.151170</td>\n",
       "      <td>0.125826</td>\n",
       "      <td>0.192091</td>\n",
       "      <td>2021-01-29</td>\n",
       "      <td>2021-02-28</td>\n",
       "      <td>0.526642</td>\n",
       "      <td>110.123810</td>\n",
       "      <td>0.066678</td>\n",
       "    </tr>\n",
       "    <tr>\n",
       "      <th>19</th>\n",
       "      <td>ZIL/USDT:USDT</td>\n",
       "      <td>long</td>\n",
       "      <td>0.067400</td>\n",
       "      <td>0.107560</td>\n",
       "      <td>209.696862</td>\n",
       "      <td>334.643835</td>\n",
       "      <td>0.125818</td>\n",
       "      <td>0.200786</td>\n",
       "      <td>2021-01-29</td>\n",
       "      <td>2021-02-28</td>\n",
       "      <td>0.595846</td>\n",
       "      <td>124.620368</td>\n",
       "      <td>0.074439</td>\n",
       "    </tr>\n",
       "  </tbody>\n",
       "</table>\n",
       "</div>"
      ],
      "text/plain": [
       "               pair  side  open_price  close_price   open_size   close_size  \\\n",
       "0    DOGE/USDT:USDT  long    0.002568     0.003568  100.000000   138.940810   \n",
       "1     TRX/USDT:USDT  long    0.025790     0.032410   99.994000   125.661324   \n",
       "2     EOS/USDT:USDT  long    2.528000     3.263000   99.988000   129.058879   \n",
       "3     XRP/USDT:USDT  long    0.239600     0.664800   99.982001   277.412497   \n",
       "4     ETC/USDT:USDT  long    5.274000     6.749000   99.976002   127.936678   \n",
       "5     FIL/USDT:USDT  long   30.440000    21.445000  129.829081    91.464673   \n",
       "6     MKR/USDT:USDT  long  569.330000   576.510000  129.821292   131.458509   \n",
       "7     XMR/USDT:USDT  long  130.560000   159.630000  129.813502   158.717290   \n",
       "8   THETA/USDT:USDT  long    0.642200     1.588800  129.805714   321.138769   \n",
       "9     BNB/USDT:USDT  long   31.535000    38.224000  129.797925   157.329821   \n",
       "10    MKR/USDT:USDT  long  576.510000  1407.480000  150.842686   368.264320   \n",
       "11    ETC/USDT:USDT  long    5.682000     7.629000  150.833635   202.518444   \n",
       "12   DASH/USDT:USDT  long  101.930000   104.720000  150.824585   154.952914   \n",
       "13   IOST/USDT:USDT  long    0.005936     0.016994  150.815535   431.765366   \n",
       "14    TRX/USDT:USDT  long    0.026930     0.033380  150.806487   186.926124   \n",
       "15    FIL/USDT:USDT  long   22.341000    35.942000  209.747197   337.439405   \n",
       "16    BNB/USDT:USDT  long   42.863000   210.110000  209.734612  1028.097410   \n",
       "17    TRX/USDT:USDT  long    0.033380     0.045560  209.722028   286.247321   \n",
       "18  THETA/USDT:USDT  long    2.051300     3.131600  209.709444   320.151170   \n",
       "19    ZIL/USDT:USDT  long    0.067400     0.107560  209.696862   334.643835   \n",
       "\n",
       "    open_fees  close_fees  open_time close_time  trade_pct   trade_pnl  \\\n",
       "0    0.060000    0.083364 2020-10-31 2020-11-30   0.389408   38.797445   \n",
       "1    0.059996    0.075397 2020-10-31 2020-11-30   0.256689   25.531931   \n",
       "2    0.059993    0.077435 2020-10-31 2020-11-30   0.290744   28.933450   \n",
       "3    0.059989    0.166447 2020-10-31 2020-11-30   1.774624  177.204059   \n",
       "4    0.059986    0.076762 2020-10-31 2020-11-30   0.279674   27.823928   \n",
       "5    0.077897    0.054879 2020-11-30 2020-12-30  -0.295499  -38.497184   \n",
       "6    0.077893    0.078875 2020-11-30 2020-12-30   0.012611    1.480449   \n",
       "7    0.077888    0.095230 2020-11-30 2020-12-30   0.222656   28.730669   \n",
       "8    0.077883    0.192683 2020-11-30 2020-12-30   1.473996  191.062489   \n",
       "9    0.077879    0.094398 2020-11-30 2020-12-30   0.212114   27.359619   \n",
       "10   0.090506    0.220959 2020-12-30 2021-01-29   1.441380  217.110170   \n",
       "11   0.090500    0.121511 2020-12-30 2021-01-29   0.342661   51.472798   \n",
       "12   0.090495    0.092972 2020-12-30 2021-01-29   0.027372    3.944863   \n",
       "13   0.090489    0.259059 2020-12-30 2021-01-29   1.862871  280.600282   \n",
       "14   0.090484    0.112156 2020-12-30 2021-01-29   0.239510   35.916998   \n",
       "15   0.125848    0.202464 2021-01-29 2021-02-28   0.608791  127.363896   \n",
       "16   0.125841    0.616858 2021-01-29 2021-02-28   3.901897  817.620099   \n",
       "17   0.125833    0.171748 2021-01-29 2021-02-28   0.364889   76.227712   \n",
       "18   0.125826    0.192091 2021-01-29 2021-02-28   0.526642  110.123810   \n",
       "19   0.125818    0.200786 2021-01-29 2021-02-28   0.595846  124.620368   \n",
       "\n",
       "    open_stat  \n",
       "0    0.012640  \n",
       "1    0.020690  \n",
       "2    0.025852  \n",
       "3    0.027579  \n",
       "4    0.027643  \n",
       "5    0.033393  \n",
       "6    0.044604  \n",
       "7    0.049531  \n",
       "8    0.049891  \n",
       "9    0.053477  \n",
       "10   0.045044  \n",
       "11   0.052960  \n",
       "12   0.053350  \n",
       "13   0.054337  \n",
       "14   0.054860  \n",
       "15   0.038300  \n",
       "16   0.051014  \n",
       "17   0.057860  \n",
       "18   0.066678  \n",
       "19   0.074439  "
      ]
     },
     "execution_count": 46,
     "metadata": {},
     "output_type": "execute_result"
    }
   ],
   "source": [
    "# df = top_bot_strategy(\n",
    "#     period=7, \n",
    "#     top_bot_n=5, \n",
    "#     column_name=\"change_columns\", \n",
    "#     long_top=True, \n",
    "#     sides=[\"long\"]\n",
    "# )\n",
    "\n",
    "# df = top_bot_strategy(\n",
    "#     period=14, \n",
    "#     top_bot_n=2, \n",
    "#     column_name=\"rsi_evol_columns\", \n",
    "#     long_top=True, \n",
    "#     sides=[\"long\", \"short\"]\n",
    "# )\n",
    "\n",
    "# df = top_bot_strategy(\n",
    "#     period=7, \n",
    "#     top_bot_n=2, \n",
    "#     column_name=\"volume_evol_columns\", \n",
    "#     long_top=True, \n",
    "#     sides=[\"long\", \"short\"]\n",
    "# )\n",
    "\n",
    "# df = top_bot_strategy(\n",
    "#     period=30, \n",
    "#     top_bot_n=10, \n",
    "#     column_name=\"ma50_evol_columns\", \n",
    "#     long_top=False, \n",
    "#     sides=[\"long\", \"short\"]\n",
    "# )\n",
    "\n",
    "# df = top_bot_strategy(\n",
    "#     period=7, \n",
    "#     top_bot_n=2, \n",
    "#     column_name=\"rsi_columns\", \n",
    "#     long_top=True, \n",
    "#     sides=[\"long\", \"short\"]\n",
    "# )\n",
    "\n",
    "# df = top_bot_strategy(\n",
    "#     period=2, \n",
    "#     top_bot_n=10, \n",
    "#     column_name=\"ma_distance_columns\", \n",
    "#     long_top=True, \n",
    "#     sides=[\"long\"]\n",
    "# )\n",
    "\n",
    "df = top_bot_strategy(\n",
    "    period=30, \n",
    "    top_bot_n=5, \n",
    "    column_name=\"volatility_columns\", \n",
    "    long_top=False, \n",
    "    sides=[\"long\"]\n",
    ")\n",
    "\n",
    "\n",
    "df.iloc[:20]"
   ]
  },
  {
   "cell_type": "code",
   "execution_count": 47,
   "metadata": {},
   "outputs": [
    {
     "data": {
      "application/vnd.plotly.v1+json": {
       "config": {
        "plotlyServerURL": "https://plot.ly"
       },
       "data": [
        {
         "hovertemplate": "close_time=%{x}<br>cumulative_pnl=%{y}<extra></extra>",
         "legendgroup": "",
         "line": {
          "color": "#636efa",
          "dash": "solid"
         },
         "marker": {
          "symbol": "circle"
         },
         "mode": "lines",
         "name": "",
         "orientation": "v",
         "showlegend": false,
         "type": "scatter",
         "x": [
          "2020-11-30T00:00:00",
          "2020-11-30T00:00:00",
          "2020-11-30T00:00:00",
          "2020-11-30T00:00:00",
          "2020-11-30T00:00:00",
          "2020-12-30T00:00:00",
          "2020-12-30T00:00:00",
          "2020-12-30T00:00:00",
          "2020-12-30T00:00:00",
          "2020-12-30T00:00:00",
          "2021-01-29T00:00:00",
          "2021-01-29T00:00:00",
          "2021-01-29T00:00:00",
          "2021-01-29T00:00:00",
          "2021-01-29T00:00:00",
          "2021-02-28T00:00:00",
          "2021-02-28T00:00:00",
          "2021-02-28T00:00:00",
          "2021-02-28T00:00:00",
          "2021-02-28T00:00:00",
          "2021-03-30T00:00:00",
          "2021-03-30T00:00:00",
          "2021-03-30T00:00:00",
          "2021-03-30T00:00:00",
          "2021-03-30T00:00:00",
          "2021-04-29T00:00:00",
          "2021-04-29T00:00:00",
          "2021-04-29T00:00:00",
          "2021-04-29T00:00:00",
          "2021-04-29T00:00:00",
          "2021-05-29T00:00:00",
          "2021-05-29T00:00:00",
          "2021-05-29T00:00:00",
          "2021-05-29T00:00:00",
          "2021-05-29T00:00:00",
          "2021-06-28T00:00:00",
          "2021-06-28T00:00:00",
          "2021-06-28T00:00:00",
          "2021-06-28T00:00:00",
          "2021-06-28T00:00:00",
          "2021-07-28T00:00:00",
          "2021-07-28T00:00:00",
          "2021-07-28T00:00:00",
          "2021-07-28T00:00:00",
          "2021-07-28T00:00:00",
          "2021-08-27T00:00:00",
          "2021-08-27T00:00:00",
          "2021-08-27T00:00:00",
          "2021-08-27T00:00:00",
          "2021-08-27T00:00:00",
          "2021-09-26T00:00:00",
          "2021-09-26T00:00:00",
          "2021-09-26T00:00:00",
          "2021-09-26T00:00:00",
          "2021-09-26T00:00:00",
          "2021-10-26T00:00:00",
          "2021-10-26T00:00:00",
          "2021-10-26T00:00:00",
          "2021-10-26T00:00:00",
          "2021-10-26T00:00:00",
          "2021-11-25T00:00:00",
          "2021-11-25T00:00:00",
          "2021-11-25T00:00:00",
          "2021-11-25T00:00:00",
          "2021-11-25T00:00:00",
          "2021-12-25T00:00:00",
          "2021-12-25T00:00:00",
          "2021-12-25T00:00:00",
          "2021-12-25T00:00:00",
          "2021-12-25T00:00:00",
          "2022-01-24T00:00:00",
          "2022-01-24T00:00:00",
          "2022-01-24T00:00:00",
          "2022-01-24T00:00:00",
          "2022-01-24T00:00:00",
          "2022-02-23T00:00:00",
          "2022-02-23T00:00:00",
          "2022-02-23T00:00:00",
          "2022-02-23T00:00:00",
          "2022-02-23T00:00:00",
          "2022-03-25T00:00:00",
          "2022-03-25T00:00:00",
          "2022-03-25T00:00:00",
          "2022-03-25T00:00:00",
          "2022-03-25T00:00:00",
          "2022-04-24T00:00:00",
          "2022-04-24T00:00:00",
          "2022-04-24T00:00:00",
          "2022-04-24T00:00:00",
          "2022-04-24T00:00:00",
          "2022-05-24T00:00:00",
          "2022-05-24T00:00:00",
          "2022-05-24T00:00:00",
          "2022-05-24T00:00:00",
          "2022-05-24T00:00:00",
          "2022-06-23T00:00:00",
          "2022-06-23T00:00:00",
          "2022-06-23T00:00:00",
          "2022-06-23T00:00:00",
          "2022-06-23T00:00:00",
          "2022-07-23T00:00:00",
          "2022-07-23T00:00:00",
          "2022-07-23T00:00:00",
          "2022-07-23T00:00:00",
          "2022-07-23T00:00:00",
          "2022-08-22T00:00:00",
          "2022-08-22T00:00:00",
          "2022-08-22T00:00:00",
          "2022-08-22T00:00:00",
          "2022-08-22T00:00:00",
          "2022-09-21T00:00:00",
          "2022-09-21T00:00:00",
          "2022-09-21T00:00:00",
          "2022-09-21T00:00:00",
          "2022-09-21T00:00:00",
          "2022-10-21T00:00:00",
          "2022-10-21T00:00:00",
          "2022-10-21T00:00:00",
          "2022-10-21T00:00:00",
          "2022-10-21T00:00:00",
          "2022-11-20T00:00:00",
          "2022-11-20T00:00:00",
          "2022-11-20T00:00:00",
          "2022-11-20T00:00:00",
          "2022-11-20T00:00:00",
          "2022-12-20T00:00:00",
          "2022-12-20T00:00:00",
          "2022-12-20T00:00:00",
          "2022-12-20T00:00:00",
          "2022-12-20T00:00:00",
          "2023-01-19T00:00:00",
          "2023-01-19T00:00:00",
          "2023-01-19T00:00:00",
          "2023-01-19T00:00:00",
          "2023-01-19T00:00:00",
          "2023-02-18T00:00:00",
          "2023-02-18T00:00:00",
          "2023-02-18T00:00:00",
          "2023-02-18T00:00:00",
          "2023-02-18T00:00:00",
          "2023-03-20T00:00:00",
          "2023-03-20T00:00:00",
          "2023-03-20T00:00:00",
          "2023-03-20T00:00:00",
          "2023-03-20T00:00:00",
          "2023-04-19T00:00:00",
          "2023-04-19T00:00:00",
          "2023-04-19T00:00:00",
          "2023-04-19T00:00:00",
          "2023-04-19T00:00:00",
          "2023-05-19T00:00:00",
          "2023-05-19T00:00:00",
          "2023-05-19T00:00:00",
          "2023-05-19T00:00:00",
          "2023-05-19T00:00:00",
          "2023-06-18T00:00:00",
          "2023-06-18T00:00:00",
          "2023-06-18T00:00:00",
          "2023-06-18T00:00:00",
          "2023-06-18T00:00:00",
          "2023-07-18T00:00:00",
          "2023-07-18T00:00:00",
          "2023-07-18T00:00:00",
          "2023-07-18T00:00:00",
          "2023-07-18T00:00:00",
          "2023-08-17T00:00:00",
          "2023-08-17T00:00:00",
          "2023-08-17T00:00:00",
          "2023-08-17T00:00:00",
          "2023-08-17T00:00:00",
          "2023-09-16T00:00:00",
          "2023-09-16T00:00:00",
          "2023-09-16T00:00:00",
          "2023-09-16T00:00:00",
          "2023-09-16T00:00:00",
          "2023-10-16T00:00:00",
          "2023-10-16T00:00:00",
          "2023-10-16T00:00:00",
          "2023-10-16T00:00:00",
          "2023-10-16T00:00:00",
          "2023-11-15T00:00:00",
          "2023-11-15T00:00:00",
          "2023-11-15T00:00:00",
          "2023-11-15T00:00:00",
          "2023-11-15T00:00:00",
          "2023-12-15T00:00:00",
          "2023-12-15T00:00:00",
          "2023-12-15T00:00:00",
          "2023-12-15T00:00:00",
          "2023-12-15T00:00:00",
          "2024-01-14T00:00:00",
          "2024-01-14T00:00:00",
          "2024-01-14T00:00:00",
          "2024-01-14T00:00:00",
          "2024-01-14T00:00:00",
          "2024-02-13T00:00:00",
          "2024-02-13T00:00:00",
          "2024-02-13T00:00:00",
          "2024-02-13T00:00:00",
          "2024-02-13T00:00:00",
          "2024-03-14T00:00:00",
          "2024-03-14T00:00:00",
          "2024-03-14T00:00:00",
          "2024-03-14T00:00:00",
          "2024-03-14T00:00:00",
          "2024-04-13T00:00:00",
          "2024-04-13T00:00:00",
          "2024-04-13T00:00:00",
          "2024-04-13T00:00:00",
          "2024-04-13T00:00:00",
          "2024-05-13T00:00:00",
          "2024-05-13T00:00:00",
          "2024-05-13T00:00:00",
          "2024-05-13T00:00:00",
          "2024-05-13T00:00:00",
          "2024-06-12T00:00:00",
          "2024-06-12T00:00:00",
          "2024-06-12T00:00:00",
          "2024-06-12T00:00:00",
          "2024-06-12T00:00:00",
          "2024-07-12T00:00:00",
          "2024-07-12T00:00:00",
          "2024-07-12T00:00:00",
          "2024-07-12T00:00:00",
          "2024-07-12T00:00:00",
          "2024-08-11T00:00:00",
          "2024-08-11T00:00:00",
          "2024-08-11T00:00:00",
          "2024-08-11T00:00:00",
          "2024-08-11T00:00:00",
          "2024-09-10T00:00:00",
          "2024-09-10T00:00:00",
          "2024-09-10T00:00:00",
          "2024-09-10T00:00:00",
          "2024-09-10T00:00:00",
          "2024-10-10T00:00:00",
          "2024-10-10T00:00:00",
          "2024-10-10T00:00:00",
          "2024-10-10T00:00:00",
          "2024-10-10T00:00:00"
         ],
         "xaxis": "x",
         "y": [
          38.797445482866046,
          64.32937605750737,
          93.26282619933852,
          270.4668855738826,
          298.29081357947445,
          259.7936290871456,
          261.2740784162037,
          290.00474757022744,
          481.0672366624821,
          508.4268554184307,
          544.343853367177,
          548.288716035245,
          828.8889975857321,
          1045.999167707486,
          1097.4719659120456,
          1224.835862036732,
          2042.455960876326,
          2118.683672771358,
          2228.8074824996897,
          2353.427850925485,
          2578.8179893834954,
          2678.4159982874176,
          2736.316405219411,
          2733.994683270278,
          2741.559018923767,
          2874.9323774670793,
          3126.300235511086,
          3515.8073228649437,
          3599.8326159327576,
          3848.6410300415387,
          3676.637497947801,
          3462.3504835964354,
          3496.2777012704305,
          3347.988151228519,
          3082.634734448842,
          3031.018054406732,
          3008.570458723902,
          2862.4359942504097,
          2662.600575846345,
          2563.239406541887,
          2537.931890429974,
          2565.4107262284615,
          2567.1377408689295,
          2552.3508498277547,
          2608.879249767063,
          2816.889803289684,
          2998.451513589133,
          2932.3705431344856,
          3054.4021866390776,
          3202.7238690505055,
          3169.843341022513,
          3187.8191676217607,
          3076.0207421931477,
          3008.6820028430798,
          3141.0185501401293,
          3286.0920375453497,
          5667.1826122439525,
          5763.3489621581075,
          5927.89198349756,
          5962.401002004438,
          5810.944340403932,
          5700.535234589982,
          5938.296984379103,
          5783.91413617177,
          5589.230699364417,
          5576.893443725088,
          5556.24546950441,
          5459.630641747886,
          5395.732338158892,
          5222.411094609301,
          5051.995418772818,
          4849.414771495243,
          4648.138463558914,
          4395.896399339942,
          4511.772412571002,
          4519.836838574256,
          4578.722869258185,
          4586.77058021258,
          4546.242530719091,
          4524.767762234683,
          4528.0344926881035,
          4594.970964026269,
          4609.883424962714,
          4642.041483473076,
          4746.105673205597,
          4656.055292654246,
          4639.239219931774,
          4542.24117444386,
          4553.066659586014,
          4531.447477655594,
          4614.514238640209,
          4516.10211528704,
          4233.627966848566,
          4031.157422410628,
          3852.435799602582,
          3897.423001731272,
          3795.3311688726753,
          3675.8854245447897,
          3535.510166017978,
          3387.92874734799,
          3427.067420487291,
          3443.65156370472,
          3444.1400977537596,
          3385.3188881078045,
          3364.7879015065673,
          3355.787565318035,
          3354.1795412627202,
          3347.603800856271,
          3359.8815734865593,
          3328.729717410799,
          3275.5651430325056,
          3231.3227406804135,
          3256.1462540714306,
          3318.068784616906,
          3258.103935459976,
          3246.1461765119734,
          3252.6573198590577,
          3232.346903920717,
          3250.9595621822446,
          3260.4212086558437,
          3255.890981145681,
          3191.3896752854967,
          3139.2591991420827,
          3058.7460905542093,
          2973.591536505788,
          2986.101806959885,
          2973.8240357086997,
          3025.975834708934,
          2946.5623844893876,
          2894.5804768784583,
          2898.6229877979113,
          2960.0080639818602,
          2995.8135353846874,
          3091.708451569866,
          3152.647205169911,
          3175.8008981354524,
          3176.6764017092764,
          3245.822747137989,
          3388.457430221613,
          3403.5547681484586,
          3473.817687383806,
          3446.591097774222,
          3333.5236158572384,
          3343.4125565883983,
          3319.768259420043,
          3267.580564187409,
          3323.466423494209,
          3302.9757067350856,
          3438.344885259082,
          3440.871436446903,
          3440.414049357795,
          3339.903494666265,
          3342.248487375012,
          3375.8183575009384,
          3368.285834899452,
          3368.054353825767,
          3329.4969518857647,
          3368.429735907515,
          3335.4780122665575,
          3312.9330334205733,
          3312.391120936925,
          3356.0896007224624,
          3516.6698036165394,
          3515.910857833578,
          3572.947481720671,
          3572.609087816745,
          3529.131762824354,
          3476.666454953146,
          3426.5759567203168,
          3372.701660334078,
          3371.988992708198,
          3380.4240450844545,
          3378.86815099548,
          3366.044004734202,
          3359.2031724208837,
          3382.8642312353036,
          3414.1646877357684,
          3413.661961589021,
          3413.0211599003546,
          3448.703171429933,
          3448.1381780235524,
          3528.901351681903,
          3684.670554918878,
          3793.9082507218277,
          3940.0400483968097,
          3939.6597354775045,
          3961.4137447952326,
          3938.6522932811986,
          3914.313087516529,
          3934.5965664950477,
          3902.5386953228594,
          3860.932870712132,
          3907.634095662732,
          3907.2837151148915,
          3868.1925418607275,
          3867.1704799305458,
          3935.6359629472054,
          3915.5820972010574,
          4007.792989870599,
          4038.019309640576,
          4037.6818451968807,
          4581.682181088683,
          4787.977564100844,
          4940.182371567741,
          5537.425648735126,
          5261.325832426273,
          5163.672448018113,
          5107.833672941716,
          5106.303425762188,
          5222.435168134893,
          5222.37980331317,
          5308.43336509478,
          5295.090803037221,
          5284.351724631931,
          5326.257022824305,
          5325.569345169381,
          5309.179407917831,
          5281.178176322749,
          5263.947169418736,
          5246.290627647824,
          5171.831881913863,
          5075.9949078424515,
          5053.276707970578,
          5052.299856801105,
          5036.372063698142,
          5035.6736570607345,
          5143.494425011363,
          5185.530320801911,
          5097.290287673094,
          5055.997643603614,
          5031.49833321676,
          5150.687695390358,
          5159.996325644022,
          5159.349546615471,
          5233.96899128366,
          5261.2819165291785,
          5261.08548413277,
          5282.520976425806,
          5219.526185112386,
          5103.176662602411
         ],
         "yaxis": "y"
        }
       ],
       "layout": {
        "legend": {
         "tracegroupgap": 0
        },
        "template": {
         "data": {
          "bar": [
           {
            "error_x": {
             "color": "#2a3f5f"
            },
            "error_y": {
             "color": "#2a3f5f"
            },
            "marker": {
             "line": {
              "color": "#E5ECF6",
              "width": 0.5
             },
             "pattern": {
              "fillmode": "overlay",
              "size": 10,
              "solidity": 0.2
             }
            },
            "type": "bar"
           }
          ],
          "barpolar": [
           {
            "marker": {
             "line": {
              "color": "#E5ECF6",
              "width": 0.5
             },
             "pattern": {
              "fillmode": "overlay",
              "size": 10,
              "solidity": 0.2
             }
            },
            "type": "barpolar"
           }
          ],
          "carpet": [
           {
            "aaxis": {
             "endlinecolor": "#2a3f5f",
             "gridcolor": "white",
             "linecolor": "white",
             "minorgridcolor": "white",
             "startlinecolor": "#2a3f5f"
            },
            "baxis": {
             "endlinecolor": "#2a3f5f",
             "gridcolor": "white",
             "linecolor": "white",
             "minorgridcolor": "white",
             "startlinecolor": "#2a3f5f"
            },
            "type": "carpet"
           }
          ],
          "choropleth": [
           {
            "colorbar": {
             "outlinewidth": 0,
             "ticks": ""
            },
            "type": "choropleth"
           }
          ],
          "contour": [
           {
            "colorbar": {
             "outlinewidth": 0,
             "ticks": ""
            },
            "colorscale": [
             [
              0,
              "#0d0887"
             ],
             [
              0.1111111111111111,
              "#46039f"
             ],
             [
              0.2222222222222222,
              "#7201a8"
             ],
             [
              0.3333333333333333,
              "#9c179e"
             ],
             [
              0.4444444444444444,
              "#bd3786"
             ],
             [
              0.5555555555555556,
              "#d8576b"
             ],
             [
              0.6666666666666666,
              "#ed7953"
             ],
             [
              0.7777777777777778,
              "#fb9f3a"
             ],
             [
              0.8888888888888888,
              "#fdca26"
             ],
             [
              1,
              "#f0f921"
             ]
            ],
            "type": "contour"
           }
          ],
          "contourcarpet": [
           {
            "colorbar": {
             "outlinewidth": 0,
             "ticks": ""
            },
            "type": "contourcarpet"
           }
          ],
          "heatmap": [
           {
            "colorbar": {
             "outlinewidth": 0,
             "ticks": ""
            },
            "colorscale": [
             [
              0,
              "#0d0887"
             ],
             [
              0.1111111111111111,
              "#46039f"
             ],
             [
              0.2222222222222222,
              "#7201a8"
             ],
             [
              0.3333333333333333,
              "#9c179e"
             ],
             [
              0.4444444444444444,
              "#bd3786"
             ],
             [
              0.5555555555555556,
              "#d8576b"
             ],
             [
              0.6666666666666666,
              "#ed7953"
             ],
             [
              0.7777777777777778,
              "#fb9f3a"
             ],
             [
              0.8888888888888888,
              "#fdca26"
             ],
             [
              1,
              "#f0f921"
             ]
            ],
            "type": "heatmap"
           }
          ],
          "heatmapgl": [
           {
            "colorbar": {
             "outlinewidth": 0,
             "ticks": ""
            },
            "colorscale": [
             [
              0,
              "#0d0887"
             ],
             [
              0.1111111111111111,
              "#46039f"
             ],
             [
              0.2222222222222222,
              "#7201a8"
             ],
             [
              0.3333333333333333,
              "#9c179e"
             ],
             [
              0.4444444444444444,
              "#bd3786"
             ],
             [
              0.5555555555555556,
              "#d8576b"
             ],
             [
              0.6666666666666666,
              "#ed7953"
             ],
             [
              0.7777777777777778,
              "#fb9f3a"
             ],
             [
              0.8888888888888888,
              "#fdca26"
             ],
             [
              1,
              "#f0f921"
             ]
            ],
            "type": "heatmapgl"
           }
          ],
          "histogram": [
           {
            "marker": {
             "pattern": {
              "fillmode": "overlay",
              "size": 10,
              "solidity": 0.2
             }
            },
            "type": "histogram"
           }
          ],
          "histogram2d": [
           {
            "colorbar": {
             "outlinewidth": 0,
             "ticks": ""
            },
            "colorscale": [
             [
              0,
              "#0d0887"
             ],
             [
              0.1111111111111111,
              "#46039f"
             ],
             [
              0.2222222222222222,
              "#7201a8"
             ],
             [
              0.3333333333333333,
              "#9c179e"
             ],
             [
              0.4444444444444444,
              "#bd3786"
             ],
             [
              0.5555555555555556,
              "#d8576b"
             ],
             [
              0.6666666666666666,
              "#ed7953"
             ],
             [
              0.7777777777777778,
              "#fb9f3a"
             ],
             [
              0.8888888888888888,
              "#fdca26"
             ],
             [
              1,
              "#f0f921"
             ]
            ],
            "type": "histogram2d"
           }
          ],
          "histogram2dcontour": [
           {
            "colorbar": {
             "outlinewidth": 0,
             "ticks": ""
            },
            "colorscale": [
             [
              0,
              "#0d0887"
             ],
             [
              0.1111111111111111,
              "#46039f"
             ],
             [
              0.2222222222222222,
              "#7201a8"
             ],
             [
              0.3333333333333333,
              "#9c179e"
             ],
             [
              0.4444444444444444,
              "#bd3786"
             ],
             [
              0.5555555555555556,
              "#d8576b"
             ],
             [
              0.6666666666666666,
              "#ed7953"
             ],
             [
              0.7777777777777778,
              "#fb9f3a"
             ],
             [
              0.8888888888888888,
              "#fdca26"
             ],
             [
              1,
              "#f0f921"
             ]
            ],
            "type": "histogram2dcontour"
           }
          ],
          "mesh3d": [
           {
            "colorbar": {
             "outlinewidth": 0,
             "ticks": ""
            },
            "type": "mesh3d"
           }
          ],
          "parcoords": [
           {
            "line": {
             "colorbar": {
              "outlinewidth": 0,
              "ticks": ""
             }
            },
            "type": "parcoords"
           }
          ],
          "pie": [
           {
            "automargin": true,
            "type": "pie"
           }
          ],
          "scatter": [
           {
            "fillpattern": {
             "fillmode": "overlay",
             "size": 10,
             "solidity": 0.2
            },
            "type": "scatter"
           }
          ],
          "scatter3d": [
           {
            "line": {
             "colorbar": {
              "outlinewidth": 0,
              "ticks": ""
             }
            },
            "marker": {
             "colorbar": {
              "outlinewidth": 0,
              "ticks": ""
             }
            },
            "type": "scatter3d"
           }
          ],
          "scattercarpet": [
           {
            "marker": {
             "colorbar": {
              "outlinewidth": 0,
              "ticks": ""
             }
            },
            "type": "scattercarpet"
           }
          ],
          "scattergeo": [
           {
            "marker": {
             "colorbar": {
              "outlinewidth": 0,
              "ticks": ""
             }
            },
            "type": "scattergeo"
           }
          ],
          "scattergl": [
           {
            "marker": {
             "colorbar": {
              "outlinewidth": 0,
              "ticks": ""
             }
            },
            "type": "scattergl"
           }
          ],
          "scattermapbox": [
           {
            "marker": {
             "colorbar": {
              "outlinewidth": 0,
              "ticks": ""
             }
            },
            "type": "scattermapbox"
           }
          ],
          "scatterpolar": [
           {
            "marker": {
             "colorbar": {
              "outlinewidth": 0,
              "ticks": ""
             }
            },
            "type": "scatterpolar"
           }
          ],
          "scatterpolargl": [
           {
            "marker": {
             "colorbar": {
              "outlinewidth": 0,
              "ticks": ""
             }
            },
            "type": "scatterpolargl"
           }
          ],
          "scatterternary": [
           {
            "marker": {
             "colorbar": {
              "outlinewidth": 0,
              "ticks": ""
             }
            },
            "type": "scatterternary"
           }
          ],
          "surface": [
           {
            "colorbar": {
             "outlinewidth": 0,
             "ticks": ""
            },
            "colorscale": [
             [
              0,
              "#0d0887"
             ],
             [
              0.1111111111111111,
              "#46039f"
             ],
             [
              0.2222222222222222,
              "#7201a8"
             ],
             [
              0.3333333333333333,
              "#9c179e"
             ],
             [
              0.4444444444444444,
              "#bd3786"
             ],
             [
              0.5555555555555556,
              "#d8576b"
             ],
             [
              0.6666666666666666,
              "#ed7953"
             ],
             [
              0.7777777777777778,
              "#fb9f3a"
             ],
             [
              0.8888888888888888,
              "#fdca26"
             ],
             [
              1,
              "#f0f921"
             ]
            ],
            "type": "surface"
           }
          ],
          "table": [
           {
            "cells": {
             "fill": {
              "color": "#EBF0F8"
             },
             "line": {
              "color": "white"
             }
            },
            "header": {
             "fill": {
              "color": "#C8D4E3"
             },
             "line": {
              "color": "white"
             }
            },
            "type": "table"
           }
          ]
         },
         "layout": {
          "annotationdefaults": {
           "arrowcolor": "#2a3f5f",
           "arrowhead": 0,
           "arrowwidth": 1
          },
          "autotypenumbers": "strict",
          "coloraxis": {
           "colorbar": {
            "outlinewidth": 0,
            "ticks": ""
           }
          },
          "colorscale": {
           "diverging": [
            [
             0,
             "#8e0152"
            ],
            [
             0.1,
             "#c51b7d"
            ],
            [
             0.2,
             "#de77ae"
            ],
            [
             0.3,
             "#f1b6da"
            ],
            [
             0.4,
             "#fde0ef"
            ],
            [
             0.5,
             "#f7f7f7"
            ],
            [
             0.6,
             "#e6f5d0"
            ],
            [
             0.7,
             "#b8e186"
            ],
            [
             0.8,
             "#7fbc41"
            ],
            [
             0.9,
             "#4d9221"
            ],
            [
             1,
             "#276419"
            ]
           ],
           "sequential": [
            [
             0,
             "#0d0887"
            ],
            [
             0.1111111111111111,
             "#46039f"
            ],
            [
             0.2222222222222222,
             "#7201a8"
            ],
            [
             0.3333333333333333,
             "#9c179e"
            ],
            [
             0.4444444444444444,
             "#bd3786"
            ],
            [
             0.5555555555555556,
             "#d8576b"
            ],
            [
             0.6666666666666666,
             "#ed7953"
            ],
            [
             0.7777777777777778,
             "#fb9f3a"
            ],
            [
             0.8888888888888888,
             "#fdca26"
            ],
            [
             1,
             "#f0f921"
            ]
           ],
           "sequentialminus": [
            [
             0,
             "#0d0887"
            ],
            [
             0.1111111111111111,
             "#46039f"
            ],
            [
             0.2222222222222222,
             "#7201a8"
            ],
            [
             0.3333333333333333,
             "#9c179e"
            ],
            [
             0.4444444444444444,
             "#bd3786"
            ],
            [
             0.5555555555555556,
             "#d8576b"
            ],
            [
             0.6666666666666666,
             "#ed7953"
            ],
            [
             0.7777777777777778,
             "#fb9f3a"
            ],
            [
             0.8888888888888888,
             "#fdca26"
            ],
            [
             1,
             "#f0f921"
            ]
           ]
          },
          "colorway": [
           "#636efa",
           "#EF553B",
           "#00cc96",
           "#ab63fa",
           "#FFA15A",
           "#19d3f3",
           "#FF6692",
           "#B6E880",
           "#FF97FF",
           "#FECB52"
          ],
          "font": {
           "color": "#2a3f5f"
          },
          "geo": {
           "bgcolor": "white",
           "lakecolor": "white",
           "landcolor": "#E5ECF6",
           "showlakes": true,
           "showland": true,
           "subunitcolor": "white"
          },
          "hoverlabel": {
           "align": "left"
          },
          "hovermode": "closest",
          "mapbox": {
           "style": "light"
          },
          "paper_bgcolor": "white",
          "plot_bgcolor": "#E5ECF6",
          "polar": {
           "angularaxis": {
            "gridcolor": "white",
            "linecolor": "white",
            "ticks": ""
           },
           "bgcolor": "#E5ECF6",
           "radialaxis": {
            "gridcolor": "white",
            "linecolor": "white",
            "ticks": ""
           }
          },
          "scene": {
           "xaxis": {
            "backgroundcolor": "#E5ECF6",
            "gridcolor": "white",
            "gridwidth": 2,
            "linecolor": "white",
            "showbackground": true,
            "ticks": "",
            "zerolinecolor": "white"
           },
           "yaxis": {
            "backgroundcolor": "#E5ECF6",
            "gridcolor": "white",
            "gridwidth": 2,
            "linecolor": "white",
            "showbackground": true,
            "ticks": "",
            "zerolinecolor": "white"
           },
           "zaxis": {
            "backgroundcolor": "#E5ECF6",
            "gridcolor": "white",
            "gridwidth": 2,
            "linecolor": "white",
            "showbackground": true,
            "ticks": "",
            "zerolinecolor": "white"
           }
          },
          "shapedefaults": {
           "line": {
            "color": "#2a3f5f"
           }
          },
          "ternary": {
           "aaxis": {
            "gridcolor": "white",
            "linecolor": "white",
            "ticks": ""
           },
           "baxis": {
            "gridcolor": "white",
            "linecolor": "white",
            "ticks": ""
           },
           "bgcolor": "#E5ECF6",
           "caxis": {
            "gridcolor": "white",
            "linecolor": "white",
            "ticks": ""
           }
          },
          "title": {
           "x": 0.05
          },
          "xaxis": {
           "automargin": true,
           "gridcolor": "white",
           "linecolor": "white",
           "ticks": "",
           "title": {
            "standoff": 15
           },
           "zerolinecolor": "white",
           "zerolinewidth": 2
          },
          "yaxis": {
           "automargin": true,
           "gridcolor": "white",
           "linecolor": "white",
           "ticks": "",
           "title": {
            "standoff": 15
           },
           "zerolinecolor": "white",
           "zerolinewidth": 2
          }
         }
        },
        "title": {
         "text": "PnL Cumulatif au Fil du Temps"
        },
        "xaxis": {
         "anchor": "y",
         "domain": [
          0,
          1
         ],
         "title": {
          "text": "close_time"
         }
        },
        "yaxis": {
         "anchor": "x",
         "domain": [
          0,
          1
         ],
         "title": {
          "text": "cumulative_pnl"
         }
        }
       }
      }
     },
     "metadata": {},
     "output_type": "display_data"
    }
   ],
   "source": [
    "df_sorted = df.sort_values('close_time')\n",
    "df_sorted['cumulative_pnl'] = df_sorted['trade_pnl'].cumsum()\n",
    "\n",
    "fig = px.line(df_sorted, x='close_time', y='cumulative_pnl', title='PnL Cumulatif au Fil du Temps')\n",
    "fig.show()"
   ]
  },
  {
   "cell_type": "code",
   "execution_count": 37,
   "metadata": {},
   "outputs": [
    {
     "data": {
      "application/vnd.plotly.v1+json": {
       "config": {
        "plotlyServerURL": "https://plot.ly"
       },
       "data": [
        {
         "alignmentgroup": "True",
         "hovertemplate": "side=long<br>Date=%{x}<br>PnL=%{y}<extra></extra>",
         "legendgroup": "long",
         "marker": {
          "color": "#636efa",
          "pattern": {
           "shape": ""
          }
         },
         "name": "long",
         "offsetgroup": "long",
         "orientation": "v",
         "showlegend": true,
         "textposition": "auto",
         "type": "bar",
         "x": [
          "2020-11-30",
          "2020-12-30",
          "2021-01-29",
          "2021-02-28",
          "2021-03-30",
          "2021-04-29",
          "2021-05-29",
          "2021-06-28",
          "2021-07-28",
          "2021-08-27",
          "2021-09-26",
          "2021-10-26",
          "2021-11-25",
          "2021-12-25",
          "2022-01-24",
          "2022-02-23",
          "2022-03-25",
          "2022-04-24",
          "2022-05-24",
          "2022-06-23",
          "2022-07-23",
          "2022-08-22",
          "2022-09-21",
          "2022-10-21",
          "2022-11-20",
          "2022-12-20",
          "2023-01-19",
          "2023-02-18",
          "2023-03-20",
          "2023-04-19",
          "2023-05-19",
          "2023-06-18",
          "2023-07-18",
          "2023-08-17",
          "2023-09-16",
          "2023-10-16",
          "2023-11-15",
          "2023-12-15",
          "2024-01-14",
          "2024-02-13",
          "2024-03-14",
          "2024-04-13",
          "2024-05-13",
          "2024-06-12",
          "2024-07-12",
          "2024-08-11",
          "2024-09-10",
          "2024-10-10"
         ],
         "xaxis": "x",
         "y": [
          151.06234492703257,
          -18.961439110018166,
          680.9476217377911,
          221.29714194125782,
          264.06843189362843,
          183.65491374045683,
          -271.31817322576336,
          -165.46861143753392,
          182.5781009447539,
          893.564469220443,
          -76.28774150811712,
          730.2246319934748,
          136.55617674890357,
          -211.09252281979667,
          -565.7740993895567,
          -5.812559154577912,
          479.2947466729082,
          -137.4592050341458,
          -873.331255269607,
          -272.0646162715556,
          254.13007767190834,
          -4.5779073064716505,
          -219.76776932289715,
          94.79743786324943,
          -324.046213181788,
          -87.16866826800356,
          935.4817323775162,
          1027.7685449751918,
          -295.61974049248647,
          11.53319320462516,
          -485.86438723847203,
          -557.1054559931118,
          302.53823583320377,
          -523.4097620700153,
          234.80847896543176,
          -4.492549292713967,
          1180.444795912865,
          111.19047870120781,
          78.40903424431016,
          26.91064605162691,
          1506.7055484561533,
          -987.3568816415583,
          312.6464616768074,
          -72.2833588255633,
          -692.7076593405357,
          -145.40034390512886,
          70.94672608265698,
          250.50902839362945
         ],
         "yaxis": "y"
        },
        {
         "alignmentgroup": "True",
         "hovertemplate": "side=short<br>Date=%{x}<br>PnL=%{y}<extra></extra>",
         "legendgroup": "short",
         "marker": {
          "color": "#EF553B",
          "pattern": {
           "shape": ""
          }
         },
         "name": "short",
         "offsetgroup": "short",
         "orientation": "v",
         "showlegend": true,
         "textposition": "auto",
         "type": "bar",
         "x": [
          "2020-11-30",
          "2020-12-30",
          "2021-01-29",
          "2021-02-28",
          "2021-03-30",
          "2021-04-29",
          "2021-05-29",
          "2021-06-28",
          "2021-07-28",
          "2021-08-27",
          "2021-09-26",
          "2021-10-26",
          "2021-11-25",
          "2021-12-25",
          "2022-01-24",
          "2022-02-23",
          "2022-03-25",
          "2022-04-24",
          "2022-05-24",
          "2022-06-23",
          "2022-07-23",
          "2022-08-22",
          "2022-09-21",
          "2022-10-21",
          "2022-11-20",
          "2022-12-20",
          "2023-01-19",
          "2023-02-18",
          "2023-03-20",
          "2023-04-19",
          "2023-05-19",
          "2023-06-18",
          "2023-07-18",
          "2023-08-17",
          "2023-09-16",
          "2023-10-16",
          "2023-11-15",
          "2023-12-15",
          "2024-01-14",
          "2024-02-13",
          "2024-03-14",
          "2024-04-13",
          "2024-05-13",
          "2024-06-12",
          "2024-07-12",
          "2024-08-11",
          "2024-09-10",
          "2024-10-10"
         ],
         "xaxis": "x",
         "y": [
          -220.1567636363478,
          -105.34662054046133,
          -379.8411380604858,
          -358.4547306354075,
          -103.7939817279412,
          -64.33661176525507,
          252.32631019154434,
          162.25625858728955,
          18.185328735130927,
          -451.5575757477272,
          219.1520082128378,
          -295.41866443907423,
          173.0456909308411,
          264.47313658793627,
          710.3855074192704,
          204.15484442904076,
          -377.8005072231391,
          77.69195226477322,
          801.0468097025071,
          363.94448970269394,
          -74.4935262100516,
          -34.43176480397454,
          351.8047339248086,
          219.82695942575896,
          442.32945004744965,
          220.1402659395284,
          -366.13965665544026,
          -764.2812736273282,
          362.78343666770417,
          -252.3302931604074,
          328.17574334572015,
          351.7515674512662,
          -355.0509552311379,
          376.724842961437,
          -165.81986015795593,
          9.57206697637464,
          -1163.2659343565847,
          -171.79290958571133,
          -393.2413038276206,
          -102.05558676267317,
          -182.52645881271258,
          961.3937207472027,
          -493.6026349205973,
          -611.2141558002969,
          707.5915706590926,
          337.52271032069837,
          -196.36548035472308,
          165.8246798079589
         ],
         "yaxis": "y"
        }
       ],
       "layout": {
        "barmode": "relative",
        "legend": {
         "title": {
          "text": "side"
         },
         "tracegroupgap": 0
        },
        "template": {
         "data": {
          "bar": [
           {
            "error_x": {
             "color": "#2a3f5f"
            },
            "error_y": {
             "color": "#2a3f5f"
            },
            "marker": {
             "line": {
              "color": "#E5ECF6",
              "width": 0.5
             },
             "pattern": {
              "fillmode": "overlay",
              "size": 10,
              "solidity": 0.2
             }
            },
            "type": "bar"
           }
          ],
          "barpolar": [
           {
            "marker": {
             "line": {
              "color": "#E5ECF6",
              "width": 0.5
             },
             "pattern": {
              "fillmode": "overlay",
              "size": 10,
              "solidity": 0.2
             }
            },
            "type": "barpolar"
           }
          ],
          "carpet": [
           {
            "aaxis": {
             "endlinecolor": "#2a3f5f",
             "gridcolor": "white",
             "linecolor": "white",
             "minorgridcolor": "white",
             "startlinecolor": "#2a3f5f"
            },
            "baxis": {
             "endlinecolor": "#2a3f5f",
             "gridcolor": "white",
             "linecolor": "white",
             "minorgridcolor": "white",
             "startlinecolor": "#2a3f5f"
            },
            "type": "carpet"
           }
          ],
          "choropleth": [
           {
            "colorbar": {
             "outlinewidth": 0,
             "ticks": ""
            },
            "type": "choropleth"
           }
          ],
          "contour": [
           {
            "colorbar": {
             "outlinewidth": 0,
             "ticks": ""
            },
            "colorscale": [
             [
              0,
              "#0d0887"
             ],
             [
              0.1111111111111111,
              "#46039f"
             ],
             [
              0.2222222222222222,
              "#7201a8"
             ],
             [
              0.3333333333333333,
              "#9c179e"
             ],
             [
              0.4444444444444444,
              "#bd3786"
             ],
             [
              0.5555555555555556,
              "#d8576b"
             ],
             [
              0.6666666666666666,
              "#ed7953"
             ],
             [
              0.7777777777777778,
              "#fb9f3a"
             ],
             [
              0.8888888888888888,
              "#fdca26"
             ],
             [
              1,
              "#f0f921"
             ]
            ],
            "type": "contour"
           }
          ],
          "contourcarpet": [
           {
            "colorbar": {
             "outlinewidth": 0,
             "ticks": ""
            },
            "type": "contourcarpet"
           }
          ],
          "heatmap": [
           {
            "colorbar": {
             "outlinewidth": 0,
             "ticks": ""
            },
            "colorscale": [
             [
              0,
              "#0d0887"
             ],
             [
              0.1111111111111111,
              "#46039f"
             ],
             [
              0.2222222222222222,
              "#7201a8"
             ],
             [
              0.3333333333333333,
              "#9c179e"
             ],
             [
              0.4444444444444444,
              "#bd3786"
             ],
             [
              0.5555555555555556,
              "#d8576b"
             ],
             [
              0.6666666666666666,
              "#ed7953"
             ],
             [
              0.7777777777777778,
              "#fb9f3a"
             ],
             [
              0.8888888888888888,
              "#fdca26"
             ],
             [
              1,
              "#f0f921"
             ]
            ],
            "type": "heatmap"
           }
          ],
          "heatmapgl": [
           {
            "colorbar": {
             "outlinewidth": 0,
             "ticks": ""
            },
            "colorscale": [
             [
              0,
              "#0d0887"
             ],
             [
              0.1111111111111111,
              "#46039f"
             ],
             [
              0.2222222222222222,
              "#7201a8"
             ],
             [
              0.3333333333333333,
              "#9c179e"
             ],
             [
              0.4444444444444444,
              "#bd3786"
             ],
             [
              0.5555555555555556,
              "#d8576b"
             ],
             [
              0.6666666666666666,
              "#ed7953"
             ],
             [
              0.7777777777777778,
              "#fb9f3a"
             ],
             [
              0.8888888888888888,
              "#fdca26"
             ],
             [
              1,
              "#f0f921"
             ]
            ],
            "type": "heatmapgl"
           }
          ],
          "histogram": [
           {
            "marker": {
             "pattern": {
              "fillmode": "overlay",
              "size": 10,
              "solidity": 0.2
             }
            },
            "type": "histogram"
           }
          ],
          "histogram2d": [
           {
            "colorbar": {
             "outlinewidth": 0,
             "ticks": ""
            },
            "colorscale": [
             [
              0,
              "#0d0887"
             ],
             [
              0.1111111111111111,
              "#46039f"
             ],
             [
              0.2222222222222222,
              "#7201a8"
             ],
             [
              0.3333333333333333,
              "#9c179e"
             ],
             [
              0.4444444444444444,
              "#bd3786"
             ],
             [
              0.5555555555555556,
              "#d8576b"
             ],
             [
              0.6666666666666666,
              "#ed7953"
             ],
             [
              0.7777777777777778,
              "#fb9f3a"
             ],
             [
              0.8888888888888888,
              "#fdca26"
             ],
             [
              1,
              "#f0f921"
             ]
            ],
            "type": "histogram2d"
           }
          ],
          "histogram2dcontour": [
           {
            "colorbar": {
             "outlinewidth": 0,
             "ticks": ""
            },
            "colorscale": [
             [
              0,
              "#0d0887"
             ],
             [
              0.1111111111111111,
              "#46039f"
             ],
             [
              0.2222222222222222,
              "#7201a8"
             ],
             [
              0.3333333333333333,
              "#9c179e"
             ],
             [
              0.4444444444444444,
              "#bd3786"
             ],
             [
              0.5555555555555556,
              "#d8576b"
             ],
             [
              0.6666666666666666,
              "#ed7953"
             ],
             [
              0.7777777777777778,
              "#fb9f3a"
             ],
             [
              0.8888888888888888,
              "#fdca26"
             ],
             [
              1,
              "#f0f921"
             ]
            ],
            "type": "histogram2dcontour"
           }
          ],
          "mesh3d": [
           {
            "colorbar": {
             "outlinewidth": 0,
             "ticks": ""
            },
            "type": "mesh3d"
           }
          ],
          "parcoords": [
           {
            "line": {
             "colorbar": {
              "outlinewidth": 0,
              "ticks": ""
             }
            },
            "type": "parcoords"
           }
          ],
          "pie": [
           {
            "automargin": true,
            "type": "pie"
           }
          ],
          "scatter": [
           {
            "fillpattern": {
             "fillmode": "overlay",
             "size": 10,
             "solidity": 0.2
            },
            "type": "scatter"
           }
          ],
          "scatter3d": [
           {
            "line": {
             "colorbar": {
              "outlinewidth": 0,
              "ticks": ""
             }
            },
            "marker": {
             "colorbar": {
              "outlinewidth": 0,
              "ticks": ""
             }
            },
            "type": "scatter3d"
           }
          ],
          "scattercarpet": [
           {
            "marker": {
             "colorbar": {
              "outlinewidth": 0,
              "ticks": ""
             }
            },
            "type": "scattercarpet"
           }
          ],
          "scattergeo": [
           {
            "marker": {
             "colorbar": {
              "outlinewidth": 0,
              "ticks": ""
             }
            },
            "type": "scattergeo"
           }
          ],
          "scattergl": [
           {
            "marker": {
             "colorbar": {
              "outlinewidth": 0,
              "ticks": ""
             }
            },
            "type": "scattergl"
           }
          ],
          "scattermapbox": [
           {
            "marker": {
             "colorbar": {
              "outlinewidth": 0,
              "ticks": ""
             }
            },
            "type": "scattermapbox"
           }
          ],
          "scatterpolar": [
           {
            "marker": {
             "colorbar": {
              "outlinewidth": 0,
              "ticks": ""
             }
            },
            "type": "scatterpolar"
           }
          ],
          "scatterpolargl": [
           {
            "marker": {
             "colorbar": {
              "outlinewidth": 0,
              "ticks": ""
             }
            },
            "type": "scatterpolargl"
           }
          ],
          "scatterternary": [
           {
            "marker": {
             "colorbar": {
              "outlinewidth": 0,
              "ticks": ""
             }
            },
            "type": "scatterternary"
           }
          ],
          "surface": [
           {
            "colorbar": {
             "outlinewidth": 0,
             "ticks": ""
            },
            "colorscale": [
             [
              0,
              "#0d0887"
             ],
             [
              0.1111111111111111,
              "#46039f"
             ],
             [
              0.2222222222222222,
              "#7201a8"
             ],
             [
              0.3333333333333333,
              "#9c179e"
             ],
             [
              0.4444444444444444,
              "#bd3786"
             ],
             [
              0.5555555555555556,
              "#d8576b"
             ],
             [
              0.6666666666666666,
              "#ed7953"
             ],
             [
              0.7777777777777778,
              "#fb9f3a"
             ],
             [
              0.8888888888888888,
              "#fdca26"
             ],
             [
              1,
              "#f0f921"
             ]
            ],
            "type": "surface"
           }
          ],
          "table": [
           {
            "cells": {
             "fill": {
              "color": "#EBF0F8"
             },
             "line": {
              "color": "white"
             }
            },
            "header": {
             "fill": {
              "color": "#C8D4E3"
             },
             "line": {
              "color": "white"
             }
            },
            "type": "table"
           }
          ]
         },
         "layout": {
          "annotationdefaults": {
           "arrowcolor": "#2a3f5f",
           "arrowhead": 0,
           "arrowwidth": 1
          },
          "autotypenumbers": "strict",
          "coloraxis": {
           "colorbar": {
            "outlinewidth": 0,
            "ticks": ""
           }
          },
          "colorscale": {
           "diverging": [
            [
             0,
             "#8e0152"
            ],
            [
             0.1,
             "#c51b7d"
            ],
            [
             0.2,
             "#de77ae"
            ],
            [
             0.3,
             "#f1b6da"
            ],
            [
             0.4,
             "#fde0ef"
            ],
            [
             0.5,
             "#f7f7f7"
            ],
            [
             0.6,
             "#e6f5d0"
            ],
            [
             0.7,
             "#b8e186"
            ],
            [
             0.8,
             "#7fbc41"
            ],
            [
             0.9,
             "#4d9221"
            ],
            [
             1,
             "#276419"
            ]
           ],
           "sequential": [
            [
             0,
             "#0d0887"
            ],
            [
             0.1111111111111111,
             "#46039f"
            ],
            [
             0.2222222222222222,
             "#7201a8"
            ],
            [
             0.3333333333333333,
             "#9c179e"
            ],
            [
             0.4444444444444444,
             "#bd3786"
            ],
            [
             0.5555555555555556,
             "#d8576b"
            ],
            [
             0.6666666666666666,
             "#ed7953"
            ],
            [
             0.7777777777777778,
             "#fb9f3a"
            ],
            [
             0.8888888888888888,
             "#fdca26"
            ],
            [
             1,
             "#f0f921"
            ]
           ],
           "sequentialminus": [
            [
             0,
             "#0d0887"
            ],
            [
             0.1111111111111111,
             "#46039f"
            ],
            [
             0.2222222222222222,
             "#7201a8"
            ],
            [
             0.3333333333333333,
             "#9c179e"
            ],
            [
             0.4444444444444444,
             "#bd3786"
            ],
            [
             0.5555555555555556,
             "#d8576b"
            ],
            [
             0.6666666666666666,
             "#ed7953"
            ],
            [
             0.7777777777777778,
             "#fb9f3a"
            ],
            [
             0.8888888888888888,
             "#fdca26"
            ],
            [
             1,
             "#f0f921"
            ]
           ]
          },
          "colorway": [
           "#636efa",
           "#EF553B",
           "#00cc96",
           "#ab63fa",
           "#FFA15A",
           "#19d3f3",
           "#FF6692",
           "#B6E880",
           "#FF97FF",
           "#FECB52"
          ],
          "font": {
           "color": "#2a3f5f"
          },
          "geo": {
           "bgcolor": "white",
           "lakecolor": "white",
           "landcolor": "#E5ECF6",
           "showlakes": true,
           "showland": true,
           "subunitcolor": "white"
          },
          "hoverlabel": {
           "align": "left"
          },
          "hovermode": "closest",
          "mapbox": {
           "style": "light"
          },
          "paper_bgcolor": "white",
          "plot_bgcolor": "#E5ECF6",
          "polar": {
           "angularaxis": {
            "gridcolor": "white",
            "linecolor": "white",
            "ticks": ""
           },
           "bgcolor": "#E5ECF6",
           "radialaxis": {
            "gridcolor": "white",
            "linecolor": "white",
            "ticks": ""
           }
          },
          "scene": {
           "xaxis": {
            "backgroundcolor": "#E5ECF6",
            "gridcolor": "white",
            "gridwidth": 2,
            "linecolor": "white",
            "showbackground": true,
            "ticks": "",
            "zerolinecolor": "white"
           },
           "yaxis": {
            "backgroundcolor": "#E5ECF6",
            "gridcolor": "white",
            "gridwidth": 2,
            "linecolor": "white",
            "showbackground": true,
            "ticks": "",
            "zerolinecolor": "white"
           },
           "zaxis": {
            "backgroundcolor": "#E5ECF6",
            "gridcolor": "white",
            "gridwidth": 2,
            "linecolor": "white",
            "showbackground": true,
            "ticks": "",
            "zerolinecolor": "white"
           }
          },
          "shapedefaults": {
           "line": {
            "color": "#2a3f5f"
           }
          },
          "ternary": {
           "aaxis": {
            "gridcolor": "white",
            "linecolor": "white",
            "ticks": ""
           },
           "baxis": {
            "gridcolor": "white",
            "linecolor": "white",
            "ticks": ""
           },
           "bgcolor": "#E5ECF6",
           "caxis": {
            "gridcolor": "white",
            "linecolor": "white",
            "ticks": ""
           }
          },
          "title": {
           "x": 0.05
          },
          "xaxis": {
           "automargin": true,
           "gridcolor": "white",
           "linecolor": "white",
           "ticks": "",
           "title": {
            "standoff": 15
           },
           "zerolinecolor": "white",
           "zerolinewidth": 2
          },
          "yaxis": {
           "automargin": true,
           "gridcolor": "white",
           "linecolor": "white",
           "ticks": "",
           "title": {
            "standoff": 15
           },
           "zerolinecolor": "white",
           "zerolinewidth": 2
          }
         }
        },
        "title": {
         "text": "PnL Quotidien par Type de Trade"
        },
        "xaxis": {
         "anchor": "y",
         "domain": [
          0,
          1
         ],
         "title": {
          "text": "Date"
         }
        },
        "yaxis": {
         "anchor": "x",
         "domain": [
          0,
          1
         ],
         "title": {
          "text": "PnL"
         }
        }
       }
      }
     },
     "metadata": {},
     "output_type": "display_data"
    }
   ],
   "source": [
    "df['date'] = df['close_time'].dt.date\n",
    "daily_pnl = df.groupby(['date', 'side'])['trade_pnl'].sum().reset_index()\n",
    "\n",
    "fig = px.bar(daily_pnl, x='date', y='trade_pnl', color='side',\n",
    "             title='PnL Quotidien par Type de Trade',\n",
    "             labels={'trade_pnl': 'PnL', 'date': 'Date'})\n",
    "fig.show()\n"
   ]
  },
  {
   "cell_type": "code",
   "execution_count": 26,
   "metadata": {},
   "outputs": [
    {
     "data": {
      "application/vnd.plotly.v1+json": {
       "config": {
        "plotlyServerURL": "https://plot.ly"
       },
       "data": [
        {
         "alignmentgroup": "True",
         "customdata": [
          [
           32
          ],
          [
           13
          ],
          [
           18
          ],
          [
           26
          ],
          [
           17
          ],
          [
           15
          ],
          [
           17
          ],
          [
           7
          ],
          [
           26
          ],
          [
           16
          ]
         ],
         "hovertemplate": "Paire de Trading=%{x}<br>PnL Total=%{marker.color}<br>trade_count=%{customdata[0]}<extra></extra>",
         "legendgroup": "",
         "marker": {
          "color": [
           -866.6229606151952,
           -839.4340065032609,
           -464.4478766683511,
           -387.28552364971785,
           -369.0455792712039,
           423.7250593597834,
           430.273256099615,
           434.6261917927064,
           454.422464040151,
           1099.6792652007762
          ],
          "coloraxis": "coloraxis",
          "pattern": {
           "shape": ""
          }
         },
         "name": "",
         "offsetgroup": "",
         "orientation": "v",
         "showlegend": false,
         "text": [
          -866.6229606151952,
          -839.4340065032609,
          -464.4478766683511,
          -387.28552364971785,
          -369.0455792712039,
          423.7250593597834,
          430.273256099615,
          434.6261917927064,
          454.422464040151,
          1099.6792652007762
         ],
         "textposition": "outside",
         "texttemplate": "%{text:.2f}",
         "type": "bar",
         "x": [
          "FTM/USDT:USDT",
          "WIF/USDT:USDT",
          "NEAR/USDT:USDT",
          "BEL/USDT:USDT",
          "ZEN/USDT:USDT",
          "OP/USDT:USDT",
          "AXS/USDT:USDT",
          "APT/USDT:USDT",
          "SOL/USDT:USDT",
          "CHZ/USDT:USDT"
         ],
         "xaxis": "x",
         "y": [
          -866.6229606151952,
          -839.4340065032609,
          -464.4478766683511,
          -387.28552364971785,
          -369.0455792712039,
          423.7250593597834,
          430.273256099615,
          434.6261917927064,
          454.422464040151,
          1099.6792652007762
         ],
         "yaxis": "y"
        }
       ],
       "layout": {
        "barmode": "relative",
        "coloraxis": {
         "colorbar": {
          "title": {
           "text": "PnL Total"
          }
         },
         "colorscale": [
          [
           0,
           "red"
          ],
          [
           0.1111111111111111,
           "red"
          ],
          [
           0.2222222222222222,
           "red"
          ],
          [
           0.3333333333333333,
           "red"
          ],
          [
           0.4444444444444444,
           "red"
          ],
          [
           0.5555555555555556,
           "green"
          ],
          [
           0.6666666666666666,
           "green"
          ],
          [
           0.7777777777777778,
           "green"
          ],
          [
           0.8888888888888888,
           "green"
          ],
          [
           1,
           "green"
          ]
         ],
         "showscale": false
        },
        "height": 600,
        "legend": {
         "tracegroupgap": 0
        },
        "template": {
         "data": {
          "bar": [
           {
            "error_x": {
             "color": "#2a3f5f"
            },
            "error_y": {
             "color": "#2a3f5f"
            },
            "marker": {
             "line": {
              "color": "#E5ECF6",
              "width": 0.5
             },
             "pattern": {
              "fillmode": "overlay",
              "size": 10,
              "solidity": 0.2
             }
            },
            "type": "bar"
           }
          ],
          "barpolar": [
           {
            "marker": {
             "line": {
              "color": "#E5ECF6",
              "width": 0.5
             },
             "pattern": {
              "fillmode": "overlay",
              "size": 10,
              "solidity": 0.2
             }
            },
            "type": "barpolar"
           }
          ],
          "carpet": [
           {
            "aaxis": {
             "endlinecolor": "#2a3f5f",
             "gridcolor": "white",
             "linecolor": "white",
             "minorgridcolor": "white",
             "startlinecolor": "#2a3f5f"
            },
            "baxis": {
             "endlinecolor": "#2a3f5f",
             "gridcolor": "white",
             "linecolor": "white",
             "minorgridcolor": "white",
             "startlinecolor": "#2a3f5f"
            },
            "type": "carpet"
           }
          ],
          "choropleth": [
           {
            "colorbar": {
             "outlinewidth": 0,
             "ticks": ""
            },
            "type": "choropleth"
           }
          ],
          "contour": [
           {
            "colorbar": {
             "outlinewidth": 0,
             "ticks": ""
            },
            "colorscale": [
             [
              0,
              "#0d0887"
             ],
             [
              0.1111111111111111,
              "#46039f"
             ],
             [
              0.2222222222222222,
              "#7201a8"
             ],
             [
              0.3333333333333333,
              "#9c179e"
             ],
             [
              0.4444444444444444,
              "#bd3786"
             ],
             [
              0.5555555555555556,
              "#d8576b"
             ],
             [
              0.6666666666666666,
              "#ed7953"
             ],
             [
              0.7777777777777778,
              "#fb9f3a"
             ],
             [
              0.8888888888888888,
              "#fdca26"
             ],
             [
              1,
              "#f0f921"
             ]
            ],
            "type": "contour"
           }
          ],
          "contourcarpet": [
           {
            "colorbar": {
             "outlinewidth": 0,
             "ticks": ""
            },
            "type": "contourcarpet"
           }
          ],
          "heatmap": [
           {
            "colorbar": {
             "outlinewidth": 0,
             "ticks": ""
            },
            "colorscale": [
             [
              0,
              "#0d0887"
             ],
             [
              0.1111111111111111,
              "#46039f"
             ],
             [
              0.2222222222222222,
              "#7201a8"
             ],
             [
              0.3333333333333333,
              "#9c179e"
             ],
             [
              0.4444444444444444,
              "#bd3786"
             ],
             [
              0.5555555555555556,
              "#d8576b"
             ],
             [
              0.6666666666666666,
              "#ed7953"
             ],
             [
              0.7777777777777778,
              "#fb9f3a"
             ],
             [
              0.8888888888888888,
              "#fdca26"
             ],
             [
              1,
              "#f0f921"
             ]
            ],
            "type": "heatmap"
           }
          ],
          "heatmapgl": [
           {
            "colorbar": {
             "outlinewidth": 0,
             "ticks": ""
            },
            "colorscale": [
             [
              0,
              "#0d0887"
             ],
             [
              0.1111111111111111,
              "#46039f"
             ],
             [
              0.2222222222222222,
              "#7201a8"
             ],
             [
              0.3333333333333333,
              "#9c179e"
             ],
             [
              0.4444444444444444,
              "#bd3786"
             ],
             [
              0.5555555555555556,
              "#d8576b"
             ],
             [
              0.6666666666666666,
              "#ed7953"
             ],
             [
              0.7777777777777778,
              "#fb9f3a"
             ],
             [
              0.8888888888888888,
              "#fdca26"
             ],
             [
              1,
              "#f0f921"
             ]
            ],
            "type": "heatmapgl"
           }
          ],
          "histogram": [
           {
            "marker": {
             "pattern": {
              "fillmode": "overlay",
              "size": 10,
              "solidity": 0.2
             }
            },
            "type": "histogram"
           }
          ],
          "histogram2d": [
           {
            "colorbar": {
             "outlinewidth": 0,
             "ticks": ""
            },
            "colorscale": [
             [
              0,
              "#0d0887"
             ],
             [
              0.1111111111111111,
              "#46039f"
             ],
             [
              0.2222222222222222,
              "#7201a8"
             ],
             [
              0.3333333333333333,
              "#9c179e"
             ],
             [
              0.4444444444444444,
              "#bd3786"
             ],
             [
              0.5555555555555556,
              "#d8576b"
             ],
             [
              0.6666666666666666,
              "#ed7953"
             ],
             [
              0.7777777777777778,
              "#fb9f3a"
             ],
             [
              0.8888888888888888,
              "#fdca26"
             ],
             [
              1,
              "#f0f921"
             ]
            ],
            "type": "histogram2d"
           }
          ],
          "histogram2dcontour": [
           {
            "colorbar": {
             "outlinewidth": 0,
             "ticks": ""
            },
            "colorscale": [
             [
              0,
              "#0d0887"
             ],
             [
              0.1111111111111111,
              "#46039f"
             ],
             [
              0.2222222222222222,
              "#7201a8"
             ],
             [
              0.3333333333333333,
              "#9c179e"
             ],
             [
              0.4444444444444444,
              "#bd3786"
             ],
             [
              0.5555555555555556,
              "#d8576b"
             ],
             [
              0.6666666666666666,
              "#ed7953"
             ],
             [
              0.7777777777777778,
              "#fb9f3a"
             ],
             [
              0.8888888888888888,
              "#fdca26"
             ],
             [
              1,
              "#f0f921"
             ]
            ],
            "type": "histogram2dcontour"
           }
          ],
          "mesh3d": [
           {
            "colorbar": {
             "outlinewidth": 0,
             "ticks": ""
            },
            "type": "mesh3d"
           }
          ],
          "parcoords": [
           {
            "line": {
             "colorbar": {
              "outlinewidth": 0,
              "ticks": ""
             }
            },
            "type": "parcoords"
           }
          ],
          "pie": [
           {
            "automargin": true,
            "type": "pie"
           }
          ],
          "scatter": [
           {
            "fillpattern": {
             "fillmode": "overlay",
             "size": 10,
             "solidity": 0.2
            },
            "type": "scatter"
           }
          ],
          "scatter3d": [
           {
            "line": {
             "colorbar": {
              "outlinewidth": 0,
              "ticks": ""
             }
            },
            "marker": {
             "colorbar": {
              "outlinewidth": 0,
              "ticks": ""
             }
            },
            "type": "scatter3d"
           }
          ],
          "scattercarpet": [
           {
            "marker": {
             "colorbar": {
              "outlinewidth": 0,
              "ticks": ""
             }
            },
            "type": "scattercarpet"
           }
          ],
          "scattergeo": [
           {
            "marker": {
             "colorbar": {
              "outlinewidth": 0,
              "ticks": ""
             }
            },
            "type": "scattergeo"
           }
          ],
          "scattergl": [
           {
            "marker": {
             "colorbar": {
              "outlinewidth": 0,
              "ticks": ""
             }
            },
            "type": "scattergl"
           }
          ],
          "scattermapbox": [
           {
            "marker": {
             "colorbar": {
              "outlinewidth": 0,
              "ticks": ""
             }
            },
            "type": "scattermapbox"
           }
          ],
          "scatterpolar": [
           {
            "marker": {
             "colorbar": {
              "outlinewidth": 0,
              "ticks": ""
             }
            },
            "type": "scatterpolar"
           }
          ],
          "scatterpolargl": [
           {
            "marker": {
             "colorbar": {
              "outlinewidth": 0,
              "ticks": ""
             }
            },
            "type": "scatterpolargl"
           }
          ],
          "scatterternary": [
           {
            "marker": {
             "colorbar": {
              "outlinewidth": 0,
              "ticks": ""
             }
            },
            "type": "scatterternary"
           }
          ],
          "surface": [
           {
            "colorbar": {
             "outlinewidth": 0,
             "ticks": ""
            },
            "colorscale": [
             [
              0,
              "#0d0887"
             ],
             [
              0.1111111111111111,
              "#46039f"
             ],
             [
              0.2222222222222222,
              "#7201a8"
             ],
             [
              0.3333333333333333,
              "#9c179e"
             ],
             [
              0.4444444444444444,
              "#bd3786"
             ],
             [
              0.5555555555555556,
              "#d8576b"
             ],
             [
              0.6666666666666666,
              "#ed7953"
             ],
             [
              0.7777777777777778,
              "#fb9f3a"
             ],
             [
              0.8888888888888888,
              "#fdca26"
             ],
             [
              1,
              "#f0f921"
             ]
            ],
            "type": "surface"
           }
          ],
          "table": [
           {
            "cells": {
             "fill": {
              "color": "#EBF0F8"
             },
             "line": {
              "color": "white"
             }
            },
            "header": {
             "fill": {
              "color": "#C8D4E3"
             },
             "line": {
              "color": "white"
             }
            },
            "type": "table"
           }
          ]
         },
         "layout": {
          "annotationdefaults": {
           "arrowcolor": "#2a3f5f",
           "arrowhead": 0,
           "arrowwidth": 1
          },
          "autotypenumbers": "strict",
          "coloraxis": {
           "colorbar": {
            "outlinewidth": 0,
            "ticks": ""
           }
          },
          "colorscale": {
           "diverging": [
            [
             0,
             "#8e0152"
            ],
            [
             0.1,
             "#c51b7d"
            ],
            [
             0.2,
             "#de77ae"
            ],
            [
             0.3,
             "#f1b6da"
            ],
            [
             0.4,
             "#fde0ef"
            ],
            [
             0.5,
             "#f7f7f7"
            ],
            [
             0.6,
             "#e6f5d0"
            ],
            [
             0.7,
             "#b8e186"
            ],
            [
             0.8,
             "#7fbc41"
            ],
            [
             0.9,
             "#4d9221"
            ],
            [
             1,
             "#276419"
            ]
           ],
           "sequential": [
            [
             0,
             "#0d0887"
            ],
            [
             0.1111111111111111,
             "#46039f"
            ],
            [
             0.2222222222222222,
             "#7201a8"
            ],
            [
             0.3333333333333333,
             "#9c179e"
            ],
            [
             0.4444444444444444,
             "#bd3786"
            ],
            [
             0.5555555555555556,
             "#d8576b"
            ],
            [
             0.6666666666666666,
             "#ed7953"
            ],
            [
             0.7777777777777778,
             "#fb9f3a"
            ],
            [
             0.8888888888888888,
             "#fdca26"
            ],
            [
             1,
             "#f0f921"
            ]
           ],
           "sequentialminus": [
            [
             0,
             "#0d0887"
            ],
            [
             0.1111111111111111,
             "#46039f"
            ],
            [
             0.2222222222222222,
             "#7201a8"
            ],
            [
             0.3333333333333333,
             "#9c179e"
            ],
            [
             0.4444444444444444,
             "#bd3786"
            ],
            [
             0.5555555555555556,
             "#d8576b"
            ],
            [
             0.6666666666666666,
             "#ed7953"
            ],
            [
             0.7777777777777778,
             "#fb9f3a"
            ],
            [
             0.8888888888888888,
             "#fdca26"
            ],
            [
             1,
             "#f0f921"
            ]
           ]
          },
          "colorway": [
           "#636efa",
           "#EF553B",
           "#00cc96",
           "#ab63fa",
           "#FFA15A",
           "#19d3f3",
           "#FF6692",
           "#B6E880",
           "#FF97FF",
           "#FECB52"
          ],
          "font": {
           "color": "#2a3f5f"
          },
          "geo": {
           "bgcolor": "white",
           "lakecolor": "white",
           "landcolor": "#E5ECF6",
           "showlakes": true,
           "showland": true,
           "subunitcolor": "white"
          },
          "hoverlabel": {
           "align": "left"
          },
          "hovermode": "closest",
          "mapbox": {
           "style": "light"
          },
          "paper_bgcolor": "white",
          "plot_bgcolor": "#E5ECF6",
          "polar": {
           "angularaxis": {
            "gridcolor": "white",
            "linecolor": "white",
            "ticks": ""
           },
           "bgcolor": "#E5ECF6",
           "radialaxis": {
            "gridcolor": "white",
            "linecolor": "white",
            "ticks": ""
           }
          },
          "scene": {
           "xaxis": {
            "backgroundcolor": "#E5ECF6",
            "gridcolor": "white",
            "gridwidth": 2,
            "linecolor": "white",
            "showbackground": true,
            "ticks": "",
            "zerolinecolor": "white"
           },
           "yaxis": {
            "backgroundcolor": "#E5ECF6",
            "gridcolor": "white",
            "gridwidth": 2,
            "linecolor": "white",
            "showbackground": true,
            "ticks": "",
            "zerolinecolor": "white"
           },
           "zaxis": {
            "backgroundcolor": "#E5ECF6",
            "gridcolor": "white",
            "gridwidth": 2,
            "linecolor": "white",
            "showbackground": true,
            "ticks": "",
            "zerolinecolor": "white"
           }
          },
          "shapedefaults": {
           "line": {
            "color": "#2a3f5f"
           }
          },
          "ternary": {
           "aaxis": {
            "gridcolor": "white",
            "linecolor": "white",
            "ticks": ""
           },
           "baxis": {
            "gridcolor": "white",
            "linecolor": "white",
            "ticks": ""
           },
           "bgcolor": "#E5ECF6",
           "caxis": {
            "gridcolor": "white",
            "linecolor": "white",
            "ticks": ""
           }
          },
          "title": {
           "x": 0.05
          },
          "xaxis": {
           "automargin": true,
           "gridcolor": "white",
           "linecolor": "white",
           "ticks": "",
           "title": {
            "standoff": 15
           },
           "zerolinecolor": "white",
           "zerolinewidth": 2
          },
          "yaxis": {
           "automargin": true,
           "gridcolor": "white",
           "linecolor": "white",
           "ticks": "",
           "title": {
            "standoff": 15
           },
           "zerolinecolor": "white",
           "zerolinewidth": 2
          }
         }
        },
        "title": {
         "text": "Top 5 et Bottom 5 Paires par PnL"
        },
        "uniformtext": {
         "minsize": 8,
         "mode": "hide"
        },
        "xaxis": {
         "anchor": "y",
         "domain": [
          0,
          1
         ],
         "title": {
          "text": "Paire de Trading"
         }
        },
        "yaxis": {
         "anchor": "x",
         "domain": [
          0,
          1
         ],
         "title": {
          "text": "PnL Total"
         }
        }
       }
      }
     },
     "metadata": {},
     "output_type": "display_data"
    }
   ],
   "source": [
    "# 1. Agréger le PnL par paire et compter le nombre de trades\n",
    "agg_df = df.groupby('pair').agg(\n",
    "    total_pnl=('trade_pnl', 'sum'),\n",
    "    trade_count=('trade_pnl', 'count')\n",
    ").reset_index()\n",
    "\n",
    "# 2. Trier les paires par PnL\n",
    "agg_sorted = agg_df.sort_values(by='total_pnl', ascending=False)\n",
    "\n",
    "# 3. Sélectionner les 5 paires avec le plus de PnL et les 5 avec le moins de PnL\n",
    "# Si vous avez moins de 10 paires, ajustez le nombre en conséquence\n",
    "top5 = agg_sorted.head(5)\n",
    "bottom5 = agg_sorted.tail(5)\n",
    "\n",
    "# 4. Combiner les paires sélectionnées\n",
    "selected_pairs = pd.concat([top5, bottom5])\n",
    "\n",
    "# 5. Trier pour une meilleure visualisation (optionnel)\n",
    "selected_pairs = selected_pairs.sort_values(by='total_pnl', ascending=True)\n",
    "\n",
    "# 6. Créer le graphique en barres avec Plotly\n",
    "fig = px.bar(\n",
    "    selected_pairs,\n",
    "    x='pair',\n",
    "    y='total_pnl',\n",
    "    color='total_pnl',\n",
    "    color_continuous_scale=[\n",
    "        'red' if pnl < 0 else 'green' for pnl in selected_pairs['total_pnl']\n",
    "    ],\n",
    "    title='Top 5 et Bottom 5 Paires par PnL',\n",
    "    labels={\n",
    "        'pair': 'Paire de Trading',\n",
    "        'total_pnl': 'PnL Total'\n",
    "    },\n",
    "    text='total_pnl',  # Affiche les valeurs de PnL sur les barres\n",
    "    hover_data={'trade_count': True}  # Inclure le nombre de trades dans le hover\n",
    ")\n",
    "\n",
    "# Personnaliser le graphique\n",
    "fig.update_traces(texttemplate='%{text:.2f}', textposition='outside')\n",
    "\n",
    "# Ajuster la hauteur du graphique\n",
    "fig.update_layout(\n",
    "    xaxis_title=\"Paire de Trading\",\n",
    "    yaxis_title=\"PnL Total\",\n",
    "    coloraxis_showscale=False,  # Masquer l'échelle des couleurs\n",
    "    uniformtext_minsize=8,\n",
    "    uniformtext_mode='hide',\n",
    "    height=600  # Augmentez la hauteur selon vos besoins\n",
    ")\n",
    "\n",
    "# Afficher le graphique\n",
    "fig.show()"
   ]
  },
  {
   "cell_type": "code",
   "execution_count": 27,
   "metadata": {},
   "outputs": [
    {
     "data": {
      "application/vnd.jupyter.widget-view+json": {
       "model_id": "dc7246f670044f71acd9e3b8f9a28592",
       "version_major": 2,
       "version_minor": 0
      },
      "text/plain": [
       "Box(children=(HTML(value='\\n<div id=\"ifr-pyg-00062640fea3b90fxC938j4eDBO2orW6\" style=\"height: auto\">\\n    <hea…"
      ]
     },
     "metadata": {},
     "output_type": "display_data"
    },
    {
     "data": {
      "text/html": [
       "<script>\n",
       "    window.addEventListener(\"message\", function(event) {\n",
       "        const backgroundMap = {\n",
       "            \"dark\": \"hsl(240 10% 3.9%)\",\n",
       "            \"light\": \"hsl(0 0 100%)\",\n",
       "        };\n",
       "        const colorMap = {\n",
       "            \"dark\": \"hsl(0 0% 98%)\",\n",
       "            \"light\": \"hsl(240 10% 3.9%)\",\n",
       "        };\n",
       "        if (event.data.action === \"changeAppearance\" && event.data.gid === \"00062640fea3b90fxC938j4eDBO2orW6\") {\n",
       "            var iframe = document.getElementById(\"gwalker-00062640fea3b90fxC938j4eDBO2orW6\");\n",
       "            iframe.style.background  = backgroundMap[event.data.appearance];\n",
       "            iframe.style.color = colorMap[event.data.appearance];\n",
       "        }\n",
       "    });\n",
       "</script>"
      ],
      "text/plain": [
       "<IPython.core.display.HTML object>"
      ]
     },
     "metadata": {},
     "output_type": "display_data"
    },
    {
     "data": {
      "text/html": [],
      "text/plain": [
       "<IPython.core.display.HTML object>"
      ]
     },
     "metadata": {},
     "output_type": "display_data"
    }
   ],
   "source": [
    "walker = pyg.walk(df)"
   ]
  }
 ],
 "metadata": {
  "kernelspec": {
   "display_name": ".venv",
   "language": "python",
   "name": "python3"
  },
  "language_info": {
   "codemirror_mode": {
    "name": "ipython",
    "version": 3
   },
   "file_extension": ".py",
   "mimetype": "text/x-python",
   "name": "python",
   "nbconvert_exporter": "python",
   "pygments_lexer": "ipython3",
   "version": "3.12.0"
  }
 },
 "nbformat": 4,
 "nbformat_minor": 2
}
