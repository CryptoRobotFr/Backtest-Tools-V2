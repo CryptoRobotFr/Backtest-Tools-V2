{
 "cells": [
  {
   "cell_type": "code",
   "execution_count": 1,
   "metadata": {},
   "outputs": [],
   "source": [
    "import sys\n",
    "sys.path.append('./')\n",
    "from utilities.data_manager import ExchangeDataManager\n",
    "import pandas as pd"
   ]
  },
  {
   "cell_type": "markdown",
   "metadata": {},
   "source": [
    "# Download Historical data into CSV in Database"
   ]
  },
  {
   "cell_type": "code",
   "execution_count": 3,
   "metadata": {},
   "outputs": [
    {
     "name": "stdout",
     "output_type": "stream",
     "text": [
      "\tRécupération pour la paire BTC/USDT:USDT en timeframe 1h sur l'exchange bitmart...\n"
     ]
    },
    {
     "data": {
      "application/vnd.jupyter.widget-view+json": {
       "model_id": "6538def642c4438185d74dc7983417f3",
       "version_major": 2,
       "version_minor": 0
      },
      "text/plain": [
       "  0%|          | 0/68 [00:00<?, ?it/s]"
      ]
     },
     "metadata": {},
     "output_type": "display_data"
    },
    {
     "name": "stdout",
     "output_type": "stream",
     "text": [
      "\u001b[H\u001b[J\tRécupération pour la paire ETH/USDT:USDT en timeframe 1h sur l'exchange bitmart...\n"
     ]
    },
    {
     "data": {
      "application/vnd.jupyter.widget-view+json": {
       "model_id": "e91f58b393924b5088e13f94e8cdbebb",
       "version_major": 2,
       "version_minor": 0
      },
      "text/plain": [
       "  0%|          | 0/68 [00:00<?, ?it/s]"
      ]
     },
     "metadata": {},
     "output_type": "display_data"
    },
    {
     "name": "stdout",
     "output_type": "stream",
     "text": [
      "\u001b[H\u001b[J\tRécupération pour la paire SOL/USDT:USDT en timeframe 1h sur l'exchange bitmart...\n"
     ]
    },
    {
     "data": {
      "application/vnd.jupyter.widget-view+json": {
       "model_id": "cec88bc506e84d1eb61df9168ee440d2",
       "version_major": 2,
       "version_minor": 0
      },
      "text/plain": [
       "  0%|          | 0/68 [00:00<?, ?it/s]"
      ]
     },
     "metadata": {},
     "output_type": "display_data"
    },
    {
     "name": "stdout",
     "output_type": "stream",
     "text": [
      "\u001b[H\u001b[J\tRécupération pour la paire BTC/USDT:USDT en timeframe 2h sur l'exchange bitmart...\n"
     ]
    },
    {
     "data": {
      "application/vnd.jupyter.widget-view+json": {
       "model_id": "bf4dfd143ef5434cbecaa7f220b25118",
       "version_major": 2,
       "version_minor": 0
      },
      "text/plain": [
       "  0%|          | 0/34 [00:00<?, ?it/s]"
      ]
     },
     "metadata": {},
     "output_type": "display_data"
    },
    {
     "name": "stdout",
     "output_type": "stream",
     "text": [
      "\u001b[H\u001b[J\tRécupération pour la paire ETH/USDT:USDT en timeframe 2h sur l'exchange bitmart...\n"
     ]
    },
    {
     "data": {
      "application/vnd.jupyter.widget-view+json": {
       "model_id": "17ff226da95a49d4a32b58b13465e913",
       "version_major": 2,
       "version_minor": 0
      },
      "text/plain": [
       "  0%|          | 0/34 [00:00<?, ?it/s]"
      ]
     },
     "metadata": {},
     "output_type": "display_data"
    },
    {
     "name": "stdout",
     "output_type": "stream",
     "text": [
      "\u001b[H\u001b[J\tRécupération pour la paire SOL/USDT:USDT en timeframe 2h sur l'exchange bitmart...\n"
     ]
    },
    {
     "data": {
      "application/vnd.jupyter.widget-view+json": {
       "model_id": "bb22564393ae4fe09cc8a52dd489f035",
       "version_major": 2,
       "version_minor": 0
      },
      "text/plain": [
       "  0%|          | 0/34 [00:00<?, ?it/s]"
      ]
     },
     "metadata": {},
     "output_type": "display_data"
    },
    {
     "name": "stdout",
     "output_type": "stream",
     "text": [
      "\u001b[H\u001b[J\tRécupération pour la paire BTC/USDT:USDT en timeframe 4h sur l'exchange bitmart...\n"
     ]
    },
    {
     "data": {
      "application/vnd.jupyter.widget-view+json": {
       "model_id": "93026b1b591e4816aad4cc74adb08324",
       "version_major": 2,
       "version_minor": 0
      },
      "text/plain": [
       "  0%|          | 0/17 [00:00<?, ?it/s]"
      ]
     },
     "metadata": {},
     "output_type": "display_data"
    },
    {
     "name": "stdout",
     "output_type": "stream",
     "text": [
      "\u001b[H\u001b[J\tRécupération pour la paire ETH/USDT:USDT en timeframe 4h sur l'exchange bitmart...\n"
     ]
    },
    {
     "data": {
      "application/vnd.jupyter.widget-view+json": {
       "model_id": "c722b7f612244765bf8a59731575fa6f",
       "version_major": 2,
       "version_minor": 0
      },
      "text/plain": [
       "  0%|          | 0/17 [00:00<?, ?it/s]"
      ]
     },
     "metadata": {},
     "output_type": "display_data"
    },
    {
     "name": "stdout",
     "output_type": "stream",
     "text": [
      "\u001b[H\u001b[J\tRécupération pour la paire SOL/USDT:USDT en timeframe 4h sur l'exchange bitmart...\n"
     ]
    },
    {
     "data": {
      "application/vnd.jupyter.widget-view+json": {
       "model_id": "e4751cb5ef664f83a250d99e67bfc85d",
       "version_major": 2,
       "version_minor": 0
      },
      "text/plain": [
       "  0%|          | 0/17 [00:00<?, ?it/s]"
      ]
     },
     "metadata": {},
     "output_type": "display_data"
    },
    {
     "name": "stdout",
     "output_type": "stream",
     "text": [
      "\u001b[H\u001b[J"
     ]
    }
   ],
   "source": [
    "exchange_name = \"binance\"\n",
    "\n",
    "intervals = [\"1h\", \"2h\", \"4h\"]\n",
    "\n",
    "coin_to_dl = [\n",
    "    \"BTC/USDT\",\n",
    "    \"ETH/USDT\",\n",
    "    \"SOL/USDT\",\n",
    "]\n",
    "\n",
    "exchange = ExchangeDataManager(\n",
    "    exchange_name=exchange_name, path_download=\"./database/exchanges\"\n",
    ")\n",
    "\n",
    "await exchange.download_data(\n",
    "    coins=coin_to_dl,\n",
    "    intervals=intervals,\n",
    ")"
   ]
  },
  {
   "cell_type": "markdown",
   "metadata": {},
   "source": [
    "# Get Historical Data From Database"
   ]
  },
  {
   "cell_type": "code",
   "execution_count": 3,
   "metadata": {},
   "outputs": [
    {
     "data": {
      "text/html": [
       "<div>\n",
       "<style scoped>\n",
       "    .dataframe tbody tr th:only-of-type {\n",
       "        vertical-align: middle;\n",
       "    }\n",
       "\n",
       "    .dataframe tbody tr th {\n",
       "        vertical-align: top;\n",
       "    }\n",
       "\n",
       "    .dataframe thead th {\n",
       "        text-align: right;\n",
       "    }\n",
       "</style>\n",
       "<table border=\"1\" class=\"dataframe\">\n",
       "  <thead>\n",
       "    <tr style=\"text-align: right;\">\n",
       "      <th></th>\n",
       "      <th>open</th>\n",
       "      <th>high</th>\n",
       "      <th>low</th>\n",
       "      <th>close</th>\n",
       "      <th>volume</th>\n",
       "    </tr>\n",
       "    <tr>\n",
       "      <th>date</th>\n",
       "      <th></th>\n",
       "      <th></th>\n",
       "      <th></th>\n",
       "      <th></th>\n",
       "      <th></th>\n",
       "    </tr>\n",
       "  </thead>\n",
       "  <tbody>\n",
       "    <tr>\n",
       "      <th>2017-08-17 04:00:00</th>\n",
       "      <td>4261.48</td>\n",
       "      <td>4313.62</td>\n",
       "      <td>4261.32</td>\n",
       "      <td>4308.83</td>\n",
       "      <td>47.181009</td>\n",
       "    </tr>\n",
       "    <tr>\n",
       "      <th>2017-08-17 05:00:00</th>\n",
       "      <td>4308.83</td>\n",
       "      <td>4328.69</td>\n",
       "      <td>4291.37</td>\n",
       "      <td>4315.32</td>\n",
       "      <td>23.234916</td>\n",
       "    </tr>\n",
       "    <tr>\n",
       "      <th>2017-08-17 06:00:00</th>\n",
       "      <td>4330.29</td>\n",
       "      <td>4345.45</td>\n",
       "      <td>4309.37</td>\n",
       "      <td>4324.35</td>\n",
       "      <td>7.229691</td>\n",
       "    </tr>\n",
       "    <tr>\n",
       "      <th>2017-08-17 07:00:00</th>\n",
       "      <td>4316.62</td>\n",
       "      <td>4349.99</td>\n",
       "      <td>4287.41</td>\n",
       "      <td>4349.99</td>\n",
       "      <td>4.443249</td>\n",
       "    </tr>\n",
       "    <tr>\n",
       "      <th>2017-08-17 08:00:00</th>\n",
       "      <td>4333.32</td>\n",
       "      <td>4377.85</td>\n",
       "      <td>4333.32</td>\n",
       "      <td>4360.69</td>\n",
       "      <td>0.972807</td>\n",
       "    </tr>\n",
       "    <tr>\n",
       "      <th>...</th>\n",
       "      <td>...</td>\n",
       "      <td>...</td>\n",
       "      <td>...</td>\n",
       "      <td>...</td>\n",
       "      <td>...</td>\n",
       "    </tr>\n",
       "    <tr>\n",
       "      <th>2024-09-10 08:00:00</th>\n",
       "      <td>57218.56</td>\n",
       "      <td>57378.00</td>\n",
       "      <td>56990.00</td>\n",
       "      <td>57046.99</td>\n",
       "      <td>1189.370560</td>\n",
       "    </tr>\n",
       "    <tr>\n",
       "      <th>2024-09-10 09:00:00</th>\n",
       "      <td>57046.99</td>\n",
       "      <td>57273.52</td>\n",
       "      <td>56878.65</td>\n",
       "      <td>57086.01</td>\n",
       "      <td>1085.496390</td>\n",
       "    </tr>\n",
       "    <tr>\n",
       "      <th>2024-09-10 10:00:00</th>\n",
       "      <td>57086.01</td>\n",
       "      <td>57184.22</td>\n",
       "      <td>56947.13</td>\n",
       "      <td>57170.00</td>\n",
       "      <td>558.157520</td>\n",
       "    </tr>\n",
       "    <tr>\n",
       "      <th>2024-09-10 11:00:00</th>\n",
       "      <td>57170.00</td>\n",
       "      <td>57260.00</td>\n",
       "      <td>57018.00</td>\n",
       "      <td>57228.00</td>\n",
       "      <td>690.717990</td>\n",
       "    </tr>\n",
       "    <tr>\n",
       "      <th>2024-09-10 12:00:00</th>\n",
       "      <td>57228.01</td>\n",
       "      <td>57468.98</td>\n",
       "      <td>57162.00</td>\n",
       "      <td>57203.19</td>\n",
       "      <td>870.916150</td>\n",
       "    </tr>\n",
       "  </tbody>\n",
       "</table>\n",
       "<p>61825 rows × 5 columns</p>\n",
       "</div>"
      ],
      "text/plain": [
       "                         open      high       low     close       volume\n",
       "date                                                                    \n",
       "2017-08-17 04:00:00   4261.48   4313.62   4261.32   4308.83    47.181009\n",
       "2017-08-17 05:00:00   4308.83   4328.69   4291.37   4315.32    23.234916\n",
       "2017-08-17 06:00:00   4330.29   4345.45   4309.37   4324.35     7.229691\n",
       "2017-08-17 07:00:00   4316.62   4349.99   4287.41   4349.99     4.443249\n",
       "2017-08-17 08:00:00   4333.32   4377.85   4333.32   4360.69     0.972807\n",
       "...                       ...       ...       ...       ...          ...\n",
       "2024-09-10 08:00:00  57218.56  57378.00  56990.00  57046.99  1189.370560\n",
       "2024-09-10 09:00:00  57046.99  57273.52  56878.65  57086.01  1085.496390\n",
       "2024-09-10 10:00:00  57086.01  57184.22  56947.13  57170.00   558.157520\n",
       "2024-09-10 11:00:00  57170.00  57260.00  57018.00  57228.00   690.717990\n",
       "2024-09-10 12:00:00  57228.01  57468.98  57162.00  57203.19   870.916150\n",
       "\n",
       "[61825 rows x 5 columns]"
      ]
     },
     "execution_count": 3,
     "metadata": {},
     "output_type": "execute_result"
    }
   ],
   "source": [
    "exchange_name = \"binance\"\n",
    "\n",
    "exchange = ExchangeDataManager(\n",
    "    exchange_name=exchange_name, \n",
    "    path_download=\"./database/exchanges\"\n",
    ")\n",
    "\n",
    "df = exchange.load_data(\n",
    "    coin=\"BTC/USDT\", \n",
    "    interval=\"1h\"\n",
    ")\n",
    "\n",
    "df"
   ]
  },
  {
   "cell_type": "code",
   "execution_count": 4,
   "metadata": {},
   "outputs": [
    {
     "data": {
      "text/html": [
       "<div>\n",
       "<style scoped>\n",
       "    .dataframe tbody tr th:only-of-type {\n",
       "        vertical-align: middle;\n",
       "    }\n",
       "\n",
       "    .dataframe tbody tr th {\n",
       "        vertical-align: top;\n",
       "    }\n",
       "\n",
       "    .dataframe thead th {\n",
       "        text-align: right;\n",
       "    }\n",
       "</style>\n",
       "<table border=\"1\" class=\"dataframe\">\n",
       "  <thead>\n",
       "    <tr style=\"text-align: right;\">\n",
       "      <th></th>\n",
       "      <th>exchange</th>\n",
       "      <th>timeframe</th>\n",
       "      <th>pair</th>\n",
       "      <th>occurences</th>\n",
       "      <th>start_date</th>\n",
       "      <th>end_date</th>\n",
       "    </tr>\n",
       "  </thead>\n",
       "  <tbody>\n",
       "    <tr>\n",
       "      <th>0</th>\n",
       "      <td>binance</td>\n",
       "      <td>1d</td>\n",
       "      <td>AAVE-USDT</td>\n",
       "      <td>1220</td>\n",
       "      <td>2020-10-15 02:00:00</td>\n",
       "      <td>2024-02-16 01:00:00</td>\n",
       "    </tr>\n",
       "    <tr>\n",
       "      <th>1</th>\n",
       "      <td>binance</td>\n",
       "      <td>1d</td>\n",
       "      <td>APE-USDT</td>\n",
       "      <td>702</td>\n",
       "      <td>2022-03-17 01:00:00</td>\n",
       "      <td>2024-02-16 01:00:00</td>\n",
       "    </tr>\n",
       "    <tr>\n",
       "      <th>2</th>\n",
       "      <td>binance</td>\n",
       "      <td>1d</td>\n",
       "      <td>APT-USDT</td>\n",
       "      <td>486</td>\n",
       "      <td>2022-10-19 02:00:00</td>\n",
       "      <td>2024-02-16 01:00:00</td>\n",
       "    </tr>\n",
       "    <tr>\n",
       "      <th>3</th>\n",
       "      <td>binance</td>\n",
       "      <td>1d</td>\n",
       "      <td>AVAX-USDT</td>\n",
       "      <td>1243</td>\n",
       "      <td>2020-09-22 02:00:00</td>\n",
       "      <td>2024-02-16 01:00:00</td>\n",
       "    </tr>\n",
       "    <tr>\n",
       "      <th>4</th>\n",
       "      <td>binance</td>\n",
       "      <td>1d</td>\n",
       "      <td>AXS-USDT</td>\n",
       "      <td>1200</td>\n",
       "      <td>2020-11-04 01:00:00</td>\n",
       "      <td>2024-02-16 01:00:00</td>\n",
       "    </tr>\n",
       "    <tr>\n",
       "      <th>...</th>\n",
       "      <td>...</td>\n",
       "      <td>...</td>\n",
       "      <td>...</td>\n",
       "      <td>...</td>\n",
       "      <td>...</td>\n",
       "      <td>...</td>\n",
       "    </tr>\n",
       "    <tr>\n",
       "      <th>100</th>\n",
       "      <td>bitget</td>\n",
       "      <td>1h</td>\n",
       "      <td>MAGIC-USDT-USDT</td>\n",
       "      <td>9125</td>\n",
       "      <td>2023-02-06 07:00:00</td>\n",
       "      <td>2024-02-21 11:00:00</td>\n",
       "    </tr>\n",
       "    <tr>\n",
       "      <th>101</th>\n",
       "      <td>bitget</td>\n",
       "      <td>1h</td>\n",
       "      <td>OCEAN-USDT-USDT</td>\n",
       "      <td>8878</td>\n",
       "      <td>2023-02-16 14:00:00</td>\n",
       "      <td>2024-02-21 11:00:00</td>\n",
       "    </tr>\n",
       "    <tr>\n",
       "      <th>102</th>\n",
       "      <td>bitget</td>\n",
       "      <td>1h</td>\n",
       "      <td>SAND-USDT-USDT</td>\n",
       "      <td>19321</td>\n",
       "      <td>2021-12-08 11:00:00</td>\n",
       "      <td>2024-02-21 11:00:00</td>\n",
       "    </tr>\n",
       "    <tr>\n",
       "      <th>103</th>\n",
       "      <td>bitget</td>\n",
       "      <td>1h</td>\n",
       "      <td>TRX-USDT-USDT</td>\n",
       "      <td>30533</td>\n",
       "      <td>2020-08-28 08:00:00</td>\n",
       "      <td>2024-02-21 11:00:00</td>\n",
       "    </tr>\n",
       "    <tr>\n",
       "      <th>104</th>\n",
       "      <td>bitget</td>\n",
       "      <td>1h</td>\n",
       "      <td>XTZ-USDT-USDT</td>\n",
       "      <td>30124</td>\n",
       "      <td>2020-09-14 09:00:00</td>\n",
       "      <td>2024-02-21 11:00:00</td>\n",
       "    </tr>\n",
       "  </tbody>\n",
       "</table>\n",
       "<p>105 rows × 6 columns</p>\n",
       "</div>"
      ],
      "text/plain": [
       "    exchange timeframe             pair  occurences           start_date  \\\n",
       "0    binance        1d        AAVE-USDT        1220  2020-10-15 02:00:00   \n",
       "1    binance        1d         APE-USDT         702  2022-03-17 01:00:00   \n",
       "2    binance        1d         APT-USDT         486  2022-10-19 02:00:00   \n",
       "3    binance        1d        AVAX-USDT        1243  2020-09-22 02:00:00   \n",
       "4    binance        1d         AXS-USDT        1200  2020-11-04 01:00:00   \n",
       "..       ...       ...              ...         ...                  ...   \n",
       "100   bitget        1h  MAGIC-USDT-USDT        9125  2023-02-06 07:00:00   \n",
       "101   bitget        1h  OCEAN-USDT-USDT        8878  2023-02-16 14:00:00   \n",
       "102   bitget        1h   SAND-USDT-USDT       19321  2021-12-08 11:00:00   \n",
       "103   bitget        1h    TRX-USDT-USDT       30533  2020-08-28 08:00:00   \n",
       "104   bitget        1h    XTZ-USDT-USDT       30124  2020-09-14 09:00:00   \n",
       "\n",
       "                end_date  \n",
       "0    2024-02-16 01:00:00  \n",
       "1    2024-02-16 01:00:00  \n",
       "2    2024-02-16 01:00:00  \n",
       "3    2024-02-16 01:00:00  \n",
       "4    2024-02-16 01:00:00  \n",
       "..                   ...  \n",
       "100  2024-02-21 11:00:00  \n",
       "101  2024-02-21 11:00:00  \n",
       "102  2024-02-21 11:00:00  \n",
       "103  2024-02-21 11:00:00  \n",
       "104  2024-02-21 11:00:00  \n",
       "\n",
       "[105 rows x 6 columns]"
      ]
     },
     "execution_count": 4,
     "metadata": {},
     "output_type": "execute_result"
    }
   ],
   "source": [
    "exchange.explore_data()"
   ]
  }
 ],
 "metadata": {
  "kernelspec": {
   "display_name": "Python 3.10.2 ('.venv': venv)",
   "language": "python",
   "name": "python3"
  },
  "language_info": {
   "codemirror_mode": {
    "name": "ipython",
    "version": 3
   },
   "file_extension": ".py",
   "mimetype": "text/x-python",
   "name": "python",
   "nbconvert_exporter": "python",
   "pygments_lexer": "ipython3",
   "version": "3.12.0"
  },
  "vscode": {
   "interpreter": {
    "hash": "d5100c10c6b669a578e86ed43dbb636d25e3c9fb9ee424ec9e5e4bad34e2e434"
   }
  }
 },
 "nbformat": 4,
 "nbformat_minor": 2
}
